{
 "cells": [
  {
   "cell_type": "code",
   "execution_count": 2,
   "id": "774875a8-1e21-4567-8877-48e91b84d349",
   "metadata": {},
   "outputs": [],
   "source": [
    "numbers = [1,2,3,4,5,6]"
   ]
  },
  {
   "cell_type": "code",
   "execution_count": 5,
   "id": "91dfbdc9-32bd-4ac5-b859-445385aeb154",
   "metadata": {},
   "outputs": [
    {
     "name": "stdout",
     "output_type": "stream",
     "text": [
      "[1, 4, 9, 16, 25, 36]\n"
     ]
    }
   ],
   "source": [
    "squared = [x ** 2 for x in numbers]\n",
    "print(squared)"
   ]
  },
  {
   "cell_type": "code",
   "execution_count": 6,
   "id": "cece15a1-3ea8-4c2e-8886-a5d3c14371c7",
   "metadata": {},
   "outputs": [],
   "source": [
    "mixed_numbers = [1, 8, 3, 12, 4, 7, 10]"
   ]
  },
  {
   "cell_type": "code",
   "execution_count": 9,
   "id": "0cf4c35d-bf83-4b0e-a4a2-160f76c94ef4",
   "metadata": {},
   "outputs": [
    {
     "data": {
      "text/plain": [
       "[8, 12, 4, 10]"
      ]
     },
     "execution_count": 9,
     "metadata": {},
     "output_type": "execute_result"
    }
   ],
   "source": [
    "even_numbers = [x for x in mixed_numbers if x % 2 == 0]\n",
    "even_numbers"
   ]
  },
  {
   "cell_type": "code",
   "execution_count": 10,
   "id": "c924e4f4-7fcb-4448-9229-463057bb3448",
   "metadata": {},
   "outputs": [],
   "source": [
    "words = ['cat', 'window', 'door', 'car', 'python']"
   ]
  },
  {
   "cell_type": "code",
   "execution_count": 17,
   "id": "b7acde4f-e578-4a4c-b6ef-98a36f012f35",
   "metadata": {},
   "outputs": [
    {
     "data": {
      "text/plain": [
       "['WINDOW', 'DOOR', 'PYTHON']"
      ]
     },
     "execution_count": 17,
     "metadata": {},
     "output_type": "execute_result"
    }
   ],
   "source": [
    "upper = [x.upper() for x in words if len(x) >= 4]\n",
    "upper"
   ]
  },
  {
   "cell_type": "code",
   "execution_count": 18,
   "id": "71d02ebe-aa7a-4811-882e-03b7006bdae2",
   "metadata": {},
   "outputs": [],
   "source": [
    "matrix = [\n",
    "    [5, 12, 8],\n",
    "    [1, 15, 11],\n",
    "    [20, 3, 9]\n",
    "]"
   ]
  },
  {
   "cell_type": "code",
   "execution_count": 23,
   "id": "2af562eb-75ba-48f5-b372-06f21078d3ff",
   "metadata": {},
   "outputs": [
    {
     "ename": "TypeError",
     "evalue": "'>' not supported between instances of 'list' and 'int'",
     "output_type": "error",
     "traceback": [
      "\u001b[1;31m---------------------------------------------------------------------------\u001b[0m",
      "\u001b[1;31mTypeError\u001b[0m                                 Traceback (most recent call last)",
      "Cell \u001b[1;32mIn[23], line 1\u001b[0m\n\u001b[1;32m----> 1\u001b[0m flattened \u001b[38;5;241m=\u001b[39m [flat \u001b[38;5;28;01mfor\u001b[39;00m x \u001b[38;5;129;01min\u001b[39;00m matrix \u001b[38;5;28;01mfor\u001b[39;00m flat \u001b[38;5;129;01min\u001b[39;00m x \u001b[38;5;28;01mif\u001b[39;00m x \u001b[38;5;241m>\u001b[39m \u001b[38;5;241m10\u001b[39m ]\n",
      "\u001b[1;31mTypeError\u001b[0m: '>' not supported between instances of 'list' and 'int'"
     ]
    }
   ],
   "source": [
    "flattened = [x for x in matrix for flat in x if x > 10 ]"
   ]
  },
  {
   "cell_type": "code",
   "execution_count": null,
   "id": "b0670d00-f236-40c2-8009-63e248ebc39c",
   "metadata": {},
   "outputs": [],
   "source": []
  },
  {
   "cell_type": "code",
   "execution_count": null,
   "id": "88f838be-9d82-408d-b3c9-719388db7953",
   "metadata": {},
   "outputs": [],
   "source": []
  },
  {
   "cell_type": "code",
   "execution_count": null,
   "id": "bce29c43-8db8-4620-9667-304ed0b4d6d7",
   "metadata": {},
   "outputs": [],
   "source": []
  },
  {
   "cell_type": "code",
   "execution_count": null,
   "id": "b4c33765-ad45-4c3f-b14c-347aea26bb0e",
   "metadata": {},
   "outputs": [],
   "source": []
  }
 ],
 "metadata": {
  "kernelspec": {
   "display_name": "Python 3 (ipykernel)",
   "language": "python",
   "name": "python3"
  },
  "language_info": {
   "codemirror_mode": {
    "name": "ipython",
    "version": 3
   },
   "file_extension": ".py",
   "mimetype": "text/x-python",
   "name": "python",
   "nbconvert_exporter": "python",
   "pygments_lexer": "ipython3",
   "version": "3.12.7"
  }
 },
 "nbformat": 4,
 "nbformat_minor": 5
}

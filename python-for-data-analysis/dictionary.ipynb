{
 "cells": [
  {
   "cell_type": "markdown",
   "id": "ab1a6fe0-2aa5-4fd7-9b6b-a675ccb05f94",
   "metadata": {
    "panel-layout": {
     "height": 51.140625,
     "visible": true,
     "width": 100
    }
   },
   "source": [
    "A dictionary is a key-value pairs where key and value are python objects. Curly braces {} are used to defince dictionaries."
   ]
  },
  {
   "cell_type": "code",
   "execution_count": 1,
   "id": "226fc18f-1c61-4095-bd2c-b8bc067b82b7",
   "metadata": {},
   "outputs": [],
   "source": [
    "dict_a = {}"
   ]
  },
  {
   "cell_type": "code",
   "execution_count": 4,
   "id": "8c83caff-6840-4e2d-af58-243b3fa38f7d",
   "metadata": {
    "panel-layout": {
     "height": 10,
     "visible": true,
     "width": 100
    }
   },
   "outputs": [
    {
     "data": {
      "text/plain": [
       "dict"
      ]
     },
     "execution_count": 4,
     "metadata": {},
     "output_type": "execute_result"
    }
   ],
   "source": [
    "type(dict_a)"
   ]
  },
  {
   "cell_type": "code",
   "execution_count": 98,
   "id": "cfdc24d8-e041-4c9d-89b9-7b4769bec2f9",
   "metadata": {},
   "outputs": [],
   "source": [
    "dict_a = {\"a\" : \"any value\", \"b\" : [1,2,3,4,5], \"c\" :(12,13,14)}"
   ]
  },
  {
   "cell_type": "code",
   "execution_count": 101,
   "id": "8cf80ef2-f630-482d-9087-f1c2a6148d8d",
   "metadata": {},
   "outputs": [
    {
     "data": {
      "text/plain": [
       "{'a': 'any value', 'b': [1, 2, 3, 4, 5], 'c': (12, 13, 14)}"
      ]
     },
     "execution_count": 101,
     "metadata": {},
     "output_type": "execute_result"
    }
   ],
   "source": [
    "dict_a"
   ]
  },
  {
   "cell_type": "code",
   "execution_count": 15,
   "id": "2b1ce8dc-ee9f-40bc-9237-a9c1a0e49e42",
   "metadata": {},
   "outputs": [],
   "source": [
    "dict_a['c'] = [12,13,14]"
   ]
  },
  {
   "cell_type": "code",
   "execution_count": 16,
   "id": "5003f237-c67e-4009-9c42-53a75971bcab",
   "metadata": {
    "panel-layout": {
     "height": 104.75,
     "visible": true,
     "width": 100
    }
   },
   "outputs": [
    {
     "data": {
      "text/plain": [
       "{'a': 'any value', 'b': [1, 2, 3, 4, 5], 'c': [12, 13, 14]}"
      ]
     },
     "execution_count": 16,
     "metadata": {},
     "output_type": "execute_result"
    }
   ],
   "source": [
    "dict_a"
   ]
  },
  {
   "cell_type": "code",
   "execution_count": 19,
   "id": "2ef13bfc-481f-4f1f-acdf-b248aa427700",
   "metadata": {
    "panel-layout": {
     "height": 27.140625,
     "visible": true,
     "width": 100
    }
   },
   "outputs": [
    {
     "data": {
      "text/plain": [
       "True"
      ]
     },
     "execution_count": 19,
     "metadata": {},
     "output_type": "execute_result"
    }
   ],
   "source": [
    "\n",
    "\"c\" in dict_a"
   ]
  },
  {
   "cell_type": "code",
   "execution_count": 22,
   "id": "f3301e90-4fa0-46d7-960d-7d92eb30bcaf",
   "metadata": {
    "panel-layout": {
     "height": 104.75,
     "visible": true,
     "width": 100
    }
   },
   "outputs": [
    {
     "data": {
      "text/plain": [
       "['any value', [1, 2, 3, 4, 5], [12, 13, 14]]"
      ]
     },
     "execution_count": 22,
     "metadata": {},
     "output_type": "execute_result"
    }
   ],
   "source": [
    "list(dict_a.values())"
   ]
  },
  {
   "cell_type": "code",
   "execution_count": 23,
   "id": "7d5a0a7f-c614-434c-b488-1632582c9a39",
   "metadata": {
    "panel-layout": {
     "height": 100.625,
     "visible": true,
     "width": 100
    }
   },
   "outputs": [
    {
     "data": {
      "text/plain": [
       "['a', 'b', 'c']"
      ]
     },
     "execution_count": 23,
     "metadata": {},
     "output_type": "execute_result"
    }
   ],
   "source": [
    "list(dict_a.keys())"
   ]
  },
  {
   "cell_type": "code",
   "execution_count": 24,
   "id": "8af88d90-fd58-4648-a8be-bc30662041ba",
   "metadata": {
    "panel-layout": {
     "height": 106.8125,
     "visible": true,
     "width": 100
    }
   },
   "outputs": [
    {
     "data": {
      "text/plain": [
       "[('a', 'any value'), ('b', [1, 2, 3, 4, 5]), ('c', [12, 13, 14])]"
      ]
     },
     "execution_count": 24,
     "metadata": {},
     "output_type": "execute_result"
    }
   ],
   "source": [
    "list(dict_a.items())"
   ]
  },
  {
   "cell_type": "code",
   "execution_count": 25,
   "id": "5654c8c9-37cc-4c34-9488-ce7725703bb3",
   "metadata": {},
   "outputs": [],
   "source": [
    "prices = {\n",
    "    \"apple\": 50,\n",
    "    \"banana\": 20,\n",
    "    \"milk\": 100,\n",
    "    \"bread\": 80,\n",
    "    \"eggs\": 150,\n",
    "    \"rice\": 200,\n",
    "    \"chicken\": 500,\n",
    "    \"yogurt\": 120,\n",
    "    \"butter\": 250,\n",
    "    \"cheese\": 300\n",
    "}\n",
    "\n",
    "shopping_list = [\n",
    "    \"apple\", \"milk\", \"bread\", \"chicken\", \n",
    "    \"banana\", \"banana\", \"cheese\", \"eggs\", \n",
    "    \"milk\", \"yogurt\", \"butter\", \"rice\"\n",
    "]\n"
   ]
  },
  {
   "cell_type": "code",
   "execution_count": 40,
   "id": "f83ea697-7e71-4474-89a0-9e7d610272ef",
   "metadata": {},
   "outputs": [
    {
     "name": "stdout",
     "output_type": "stream",
     "text": [
      "The final bils is: $1890\n"
     ]
    }
   ],
   "source": [
    "bill = 0\n",
    "for item in shopping_list:\n",
    "    if item in prices:\n",
    "        bill = bill + prices[item]\n",
    "print(f\"The final bils is: ${bill}\")\n"
   ]
  },
  {
   "cell_type": "code",
   "execution_count": null,
   "id": "064a1ea0-cc1c-41c4-8261-5b591f41f2a5",
   "metadata": {},
   "outputs": [],
   "source": []
  },
  {
   "cell_type": "code",
   "execution_count": 92,
   "id": "a0d4c74d-b711-4997-bfe1-83009f536494",
   "metadata": {},
   "outputs": [],
   "source": [
    "# Inventory and prices\n",
    "inventory = {\n",
    "    \"apple\": {\"price\": 50, \"stock\": 10},\n",
    "    \"banana\": {\"price\": 20, \"stock\": 15},\n",
    "    \"milk\": {\"price\": 100, \"stock\": 5},\n",
    "    \"bread\": {\"price\": 80, \"stock\": 8},\n",
    "    \"eggs\": {\"price\": 150, \"stock\": 12},\n",
    "    \"chicken\": {\"price\": 500, \"stock\": 3},\n",
    "    \"yogurt\": {\"price\": 120, \"stock\": 20},\n",
    "    \"butter\": {\"price\": 250, \"stock\": 7},\n",
    "    \"cheese\": {\"price\": 300, \"stock\": 6},\n",
    "    \"rice\": {\"price\": 200, \"stock\": 4}\n",
    "}\n",
    "\n",
    "# Customer's order list\n",
    "customer_order = [\"apple\", \"milk\", \"bread\", \"chicken\", \"banana\", \"banana\", \"cheese\", \"eggs\", \"milk\", \"butter\", \"rice\", \"soda\"]"
   ]
  },
  {
   "cell_type": "code",
   "execution_count": 96,
   "id": "dd682200-8710-46bc-abce-a563e0285f73",
   "metadata": {},
   "outputs": [
    {
     "name": "stdout",
     "output_type": "stream",
     "text": [
      "The final bill is: $1070\n",
      "Missing items: {'milk', 'soda', 'chicken'}\n",
      "Updated inventory: {'apple': {'price': 50, 'stock': 6}, 'banana': {'price': 20, 'stock': 7}, 'milk': {'price': 100, 'stock': 0}, 'bread': {'price': 80, 'stock': 4}, 'eggs': {'price': 150, 'stock': 8}, 'chicken': {'price': 500, 'stock': 0}, 'yogurt': {'price': 120, 'stock': 20}, 'butter': {'price': 250, 'stock': 3}, 'cheese': {'price': 300, 'stock': 2}, 'rice': {'price': 200, 'stock': 0}}\n"
     ]
    }
   ],
   "source": [
    "bill = 0\n",
    "missing_items =[]\n",
    "\n",
    "for item in customer_order:\n",
    "    if item in inventory and inventory[item]['stock']> 0:\n",
    "        bill = bill + inventory[item]['price']\n",
    "        inventory[item]['stock'] =  inventory[item]['stock'] - 1 \n",
    "    else:\n",
    "        missing_items.append(item)\n",
    "\n",
    "\n",
    "\n",
    "missing_items = set(missing_items)\n",
    "print(f'The final bill is: ${bill}')\n",
    "print(f'Missing items: {missing_items}')\n",
    "print(f'Updated inventory: {inventory}')\n",
    "\n"
   ]
  },
  {
   "cell_type": "code",
   "execution_count": 97,
   "id": "e4630475-ba4d-4f9a-84dc-4264eede0411",
   "metadata": {},
   "outputs": [],
   "source": [
    "\n",
    "# The master database for the movie theater\n",
    "theatre_data = {\n",
    "    \"Dune: Part Two\": {\n",
    "        \"showtimes\": [\n",
    "            (\"10:00 AM\", 12.50), \n",
    "            (\"02:00 PM\", 12.50), \n",
    "            (\"06:00 PM\", 15.00)\n",
    "        ],\n",
    "        \"seats\": {1, 2, 3, 4, 5, 6, 7, 8, 9, 10, 11, 12, 13, 14, 15, 16, 17, 18, 19, 20}\n",
    "    },\n",
    "    \"Godzilla x Kong\": {\n",
    "        \"showtimes\": [\n",
    "            (\"11:30 AM\", 10.00), \n",
    "            (\"03:30 PM\", 10.00), \n",
    "            (\"07:30 PM\", 12.00)\n",
    "        ],\n",
    "        \"seats\": {1, 2, 3, 4, 5, 6, 7, 8, 9, 10}\n",
    "    },\n",
    "    \"Oppenheimer\": {\n",
    "        \"showtimes\": [\n",
    "            (\"01:00 PM\", 11.50)\n",
    "        ],\n",
    "        \"seats\": {1, 2, 3, 4, 5}\n",
    "    }\n",
    "}\n",
    "\n",
    "# The list of customer requests to be processed\n",
    "customer_requests = [\n",
    "    # Valid requests\n",
    "    {\"movie\": \"Dune: Part Two\", \"showtime\": \"06:00 PM\", \"seats\": [1, 2]},\n",
    "    {\"movie\": \"Godzilla x Kong\", \"showtime\": \"03:30 PM\", \"seats\": [3]},\n",
    "    \n",
    "    # Invalid requests\n",
    "    {\"movie\": \"Dune: Part Two\", \"showtime\": \"06:00 PM\", \"seats\": [1, 2]}, # Out of stock seats (already sold)\n",
    "    {\"movie\": \"Dune: Part Two\", \"showtime\": \"06:00 PM\", \"seats\": [21]},   # Non-existent seat\n",
    "    {\"movie\": \"Oppenheimer\", \"showtime\": \"01:00 PM\", \"seats\": [6]},     # Non-existent seat\n",
    "    {\"movie\": \"Godzilla x Kong\", \"showtime\": \"09:30 PM\", \"seats\": [1]}, # Invalid showtime\n",
    "    {\"movie\": \"Deadpool & Wolverine\", \"showtime\": \"02:00 PM\", \"seats\": [5]} # Invalid movie\n",
    "]"
   ]
  },
  {
   "cell_type": "code",
   "execution_count": 102,
   "id": "0ddf2e98-119d-4e8e-8a92-997c1a3869ba",
   "metadata": {},
   "outputs": [],
   "source": []
  },
  {
   "cell_type": "code",
   "execution_count": 107,
   "id": "db190ed0-e43b-4c2f-a95a-41034093b050",
   "metadata": {},
   "outputs": [
    {
     "ename": "TypeError",
     "evalue": "'dict_values' object is not subscriptable",
     "output_type": "error",
     "traceback": [
      "\u001b[1;31m---------------------------------------------------------------------------\u001b[0m",
      "\u001b[1;31mTypeError\u001b[0m                                 Traceback (most recent call last)",
      "Cell \u001b[1;32mIn[107], line 1\u001b[0m\n\u001b[1;32m----> 1\u001b[0m theatre_data\u001b[38;5;241m.\u001b[39mvalues()[\u001b[38;5;124m'\u001b[39m\u001b[38;5;124mshowtimes\u001b[39m\u001b[38;5;124m'\u001b[39m]\n",
      "\u001b[1;31mTypeError\u001b[0m: 'dict_values' object is not subscriptable"
     ]
    }
   ],
   "source": []
  },
  {
   "cell_type": "code",
   "execution_count": null,
   "id": "529cdd15-bca0-4308-b3e5-e7387721890b",
   "metadata": {},
   "outputs": [],
   "source": []
  },
  {
   "cell_type": "code",
   "execution_count": null,
   "id": "639f0287-e995-43f3-ad8f-48a6bc047ba0",
   "metadata": {},
   "outputs": [],
   "source": []
  },
  {
   "cell_type": "code",
   "execution_count": null,
   "id": "94103cb9-0b1e-42bd-b0b8-cee1ad566b72",
   "metadata": {},
   "outputs": [],
   "source": []
  },
  {
   "cell_type": "code",
   "execution_count": null,
   "id": "4fb604b5-d859-4af5-a035-cfea7106967a",
   "metadata": {},
   "outputs": [],
   "source": []
  },
  {
   "cell_type": "code",
   "execution_count": null,
   "id": "4a29b7af-5d05-4a7d-ad65-4bf05c06834c",
   "metadata": {},
   "outputs": [],
   "source": []
  },
  {
   "cell_type": "code",
   "execution_count": null,
   "id": "e456f599-6067-4a45-a2cb-11a2270b43b6",
   "metadata": {},
   "outputs": [],
   "source": []
  },
  {
   "cell_type": "code",
   "execution_count": null,
   "id": "50b1e472-a095-4592-a3eb-6aa3729135fc",
   "metadata": {},
   "outputs": [],
   "source": []
  },
  {
   "cell_type": "code",
   "execution_count": null,
   "id": "4acd944f-6869-4b8c-b6e5-0e613936f7d9",
   "metadata": {},
   "outputs": [],
   "source": []
  },
  {
   "cell_type": "code",
   "execution_count": null,
   "id": "bd9a6ee0-e598-40bd-a9e8-73cbaee316b5",
   "metadata": {},
   "outputs": [],
   "source": []
  },
  {
   "cell_type": "code",
   "execution_count": null,
   "id": "0f264edd-1471-415c-93d5-6449360b8870",
   "metadata": {},
   "outputs": [],
   "source": []
  },
  {
   "cell_type": "code",
   "execution_count": null,
   "id": "efd15bd7-6f68-46d4-9c18-78ff3fe07822",
   "metadata": {},
   "outputs": [],
   "source": []
  }
 ],
 "metadata": {
  "kernelspec": {
   "display_name": "Python 3 (ipykernel)",
   "language": "python",
   "name": "python3"
  },
  "language_info": {
   "codemirror_mode": {
    "name": "ipython",
    "version": 3
   },
   "file_extension": ".py",
   "mimetype": "text/x-python",
   "name": "python",
   "nbconvert_exporter": "python",
   "pygments_lexer": "ipython3",
   "version": "3.12.7"
  },
  "panel-cell-order": [
   "ab1a6fe0-2aa5-4fd7-9b6b-a675ccb05f94",
   "8c83caff-6840-4e2d-af58-243b3fa38f7d",
   "5003f237-c67e-4009-9c42-53a75971bcab",
   "2ef13bfc-481f-4f1f-acdf-b248aa427700",
   "f3301e90-4fa0-46d7-960d-7d92eb30bcaf",
   "7d5a0a7f-c614-434c-b488-1632582c9a39",
   "8af88d90-fd58-4648-a8be-bc30662041ba"
  ]
 },
 "nbformat": 4,
 "nbformat_minor": 5
}

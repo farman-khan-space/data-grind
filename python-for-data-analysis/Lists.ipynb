{
 "cells": [
  {
   "cell_type": "code",
   "execution_count": 1,
   "id": "819b3ece-8a2c-4b79-93ae-8c3b90bcd020",
   "metadata": {},
   "outputs": [],
   "source": [
    "list_1 = [1,2,3,4,5,6]\n",
    "\n",
    "list_2 =[7,8,9,10,11,12]"
   ]
  },
  {
   "cell_type": "code",
   "execution_count": 2,
   "id": "b199d410-1356-4e4f-a901-a9121f4c9286",
   "metadata": {},
   "outputs": [],
   "source": [
    "concat= list_1 + list_2"
   ]
  },
  {
   "cell_type": "code",
   "execution_count": 3,
   "id": "fd198b1f-b2ed-48d1-880b-e7807e3090d9",
   "metadata": {},
   "outputs": [
    {
     "data": {
      "text/plain": [
       "[1, 2, 3, 4, 5, 6, 7, 8, 9, 10, 11, 12]"
      ]
     },
     "execution_count": 3,
     "metadata": {},
     "output_type": "execute_result"
    }
   ],
   "source": [
    "concat"
   ]
  },
  {
   "cell_type": "code",
   "execution_count": 18,
   "id": "4e7258a5-aff2-4a91-8e53-1d817d7707fc",
   "metadata": {},
   "outputs": [],
   "source": [
    "list_1.extend(list_2)"
   ]
  },
  {
   "cell_type": "code",
   "execution_count": 19,
   "id": "e15e5950-80e5-41ba-8ac2-e8dee8e72e5c",
   "metadata": {},
   "outputs": [
    {
     "data": {
      "text/plain": [
       "[12, 11, 10, 9, 8, 7, 12, 11, 10, 9, 8, 7]"
      ]
     },
     "execution_count": 19,
     "metadata": {},
     "output_type": "execute_result"
    }
   ],
   "source": [
    "list_1"
   ]
  },
  {
   "cell_type": "code",
   "execution_count": 8,
   "id": "110dbe85-a099-4eca-a3f6-ab57abec912e",
   "metadata": {},
   "outputs": [],
   "source": [
    "list_2.reverse()"
   ]
  },
  {
   "cell_type": "code",
   "execution_count": 9,
   "id": "c8ab1bd2-3e16-4754-b91a-e54d1d99b5e1",
   "metadata": {},
   "outputs": [
    {
     "data": {
      "text/plain": [
       "[12, 11, 10, 9, 8, 7]"
      ]
     },
     "execution_count": 9,
     "metadata": {},
     "output_type": "execute_result"
    }
   ],
   "source": [
    "list_2"
   ]
  },
  {
   "cell_type": "code",
   "execution_count": 10,
   "id": "4a5be9ec-9eb0-415f-9624-402a2134dabe",
   "metadata": {},
   "outputs": [],
   "source": [
    "list_3 = ['cat', 'dogs', 'elephant', 'zebra', 'alien']"
   ]
  },
  {
   "cell_type": "code",
   "execution_count": 11,
   "id": "d61249e9-cb64-48d9-978b-5403ac795d2c",
   "metadata": {},
   "outputs": [
    {
     "data": {
      "text/plain": [
       "['alien', 'cat', 'dogs', 'elephant', 'zebra']"
      ]
     },
     "execution_count": 11,
     "metadata": {},
     "output_type": "execute_result"
    }
   ],
   "source": [
    "list_3.sort()\n",
    "list_3"
   ]
  },
  {
   "cell_type": "code",
   "execution_count": 12,
   "id": "3aaac0ce-aadd-4f50-b7bb-0384492df841",
   "metadata": {},
   "outputs": [],
   "source": [
    "list_3.sort(key=len, reverse= True)"
   ]
  },
  {
   "cell_type": "code",
   "execution_count": 13,
   "id": "2190a9b5-8778-46bc-b965-b122a6e52f32",
   "metadata": {},
   "outputs": [
    {
     "data": {
      "text/plain": [
       "['elephant', 'alien', 'zebra', 'dogs', 'cat']"
      ]
     },
     "execution_count": 13,
     "metadata": {},
     "output_type": "execute_result"
    }
   ],
   "source": [
    "list_3"
   ]
  },
  {
   "cell_type": "code",
   "execution_count": null,
   "id": "3f8055aa-29e9-4f51-bda5-ac947ca1f4d8",
   "metadata": {},
   "outputs": [],
   "source": []
  },
  {
   "cell_type": "code",
   "execution_count": 20,
   "id": "37e0af60-1193-4395-8cf1-7cb3307c997a",
   "metadata": {},
   "outputs": [
    {
     "data": {
      "text/plain": [
       "[12, 11, 10, 9, 8, 7, 12, 11, 10, 9, 8, 7]"
      ]
     },
     "execution_count": 20,
     "metadata": {},
     "output_type": "execute_result"
    }
   ],
   "source": [
    "list_1"
   ]
  },
  {
   "cell_type": "code",
   "execution_count": 29,
   "id": "a321c14f-4f62-47dd-80fc-593aa1e7e651",
   "metadata": {},
   "outputs": [
    {
     "data": {
      "text/plain": [
       "[12, 10, 8, 12, 10, 8]"
      ]
     },
     "execution_count": 29,
     "metadata": {},
     "output_type": "execute_result"
    }
   ],
   "source": [
    "list_1[::2]"
   ]
  },
  {
   "cell_type": "code",
   "execution_count": 31,
   "id": "6a8c7ea9-30eb-4d93-8a4d-a5355c6baabe",
   "metadata": {},
   "outputs": [],
   "source": [
    "reverse_list_1 = list_1[::-1]"
   ]
  },
  {
   "cell_type": "code",
   "execution_count": 32,
   "id": "1fd65918-b8f4-4be9-891f-8817bf457967",
   "metadata": {},
   "outputs": [
    {
     "data": {
      "text/plain": [
       "[7, 8, 9, 10, 11, 12, 7, 8, 9, 10, 11, 12]"
      ]
     },
     "execution_count": 32,
     "metadata": {},
     "output_type": "execute_result"
    }
   ],
   "source": [
    "reverse_list_1"
   ]
  },
  {
   "cell_type": "code",
   "execution_count": 34,
   "id": "67ba51e7-0cd4-4c77-943a-d6e9bc60b764",
   "metadata": {},
   "outputs": [],
   "source": [
    "list_1.sort()"
   ]
  },
  {
   "cell_type": "code",
   "execution_count": 35,
   "id": "996aeef1-efe2-4177-9435-d275f6d2b636",
   "metadata": {},
   "outputs": [
    {
     "data": {
      "text/plain": [
       "[7, 7, 8, 8, 9, 9, 10, 10, 11, 11, 12, 12]"
      ]
     },
     "execution_count": 35,
     "metadata": {},
     "output_type": "execute_result"
    }
   ],
   "source": [
    "list_1"
   ]
  },
  {
   "cell_type": "code",
   "execution_count": null,
   "id": "f44cd346-40fe-4aea-8f35-ab39c82c579b",
   "metadata": {},
   "outputs": [],
   "source": []
  }
 ],
 "metadata": {
  "kernelspec": {
   "display_name": "Python 3 (ipykernel)",
   "language": "python",
   "name": "python3"
  },
  "language_info": {
   "codemirror_mode": {
    "name": "ipython",
    "version": 3
   },
   "file_extension": ".py",
   "mimetype": "text/x-python",
   "name": "python",
   "nbconvert_exporter": "python",
   "pygments_lexer": "ipython3",
   "version": "3.12.7"
  }
 },
 "nbformat": 4,
 "nbformat_minor": 5
}

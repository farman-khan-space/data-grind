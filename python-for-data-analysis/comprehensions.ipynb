{
 "cells": [
  {
   "cell_type": "code",
   "execution_count": 2,
   "id": "774875a8-1e21-4567-8877-48e91b84d349",
   "metadata": {},
   "outputs": [],
   "source": [
    "numbers = [1,2,3,4,5,6]"
   ]
  },
  {
   "cell_type": "code",
   "execution_count": 5,
   "id": "91dfbdc9-32bd-4ac5-b859-445385aeb154",
   "metadata": {},
   "outputs": [
    {
     "name": "stdout",
     "output_type": "stream",
     "text": [
      "[1, 4, 9, 16, 25, 36]\n"
     ]
    }
   ],
   "source": [
    "squared = [x ** 2 for x in numbers]\n",
    "print(squared)"
   ]
  },
  {
   "cell_type": "code",
   "execution_count": 6,
   "id": "cece15a1-3ea8-4c2e-8886-a5d3c14371c7",
   "metadata": {},
   "outputs": [],
   "source": [
    "mixed_numbers = [1, 8, 3, 12, 4, 7, 10]"
   ]
  },
  {
   "cell_type": "code",
   "execution_count": 9,
   "id": "0cf4c35d-bf83-4b0e-a4a2-160f76c94ef4",
   "metadata": {},
   "outputs": [
    {
     "data": {
      "text/plain": [
       "[8, 12, 4, 10]"
      ]
     },
     "execution_count": 9,
     "metadata": {},
     "output_type": "execute_result"
    }
   ],
   "source": [
    "even_numbers = [x for x in mixed_numbers if x % 2 == 0]\n",
    "even_numbers"
   ]
  },
  {
   "cell_type": "code",
   "execution_count": 10,
   "id": "c924e4f4-7fcb-4448-9229-463057bb3448",
   "metadata": {},
   "outputs": [],
   "source": [
    "words = ['cat', 'window', 'door', 'car', 'python']"
   ]
  },
  {
   "cell_type": "code",
   "execution_count": 17,
   "id": "b7acde4f-e578-4a4c-b6ef-98a36f012f35",
   "metadata": {},
   "outputs": [
    {
     "data": {
      "text/plain": [
       "['WINDOW', 'DOOR', 'PYTHON']"
      ]
     },
     "execution_count": 17,
     "metadata": {},
     "output_type": "execute_result"
    }
   ],
   "source": [
    "upper = [x.upper() for x in words if len(x) >= 4]\n",
    "upper"
   ]
  },
  {
   "cell_type": "code",
   "execution_count": 18,
   "id": "71d02ebe-aa7a-4811-882e-03b7006bdae2",
   "metadata": {},
   "outputs": [],
   "source": [
    "matrix = [\n",
    "    [5, 12, 8],\n",
    "    [1, 15, 11],\n",
    "    [20, 3, 9]\n",
    "]"
   ]
  },
  {
   "cell_type": "code",
   "execution_count": 25,
   "id": "2af562eb-75ba-48f5-b372-06f21078d3ff",
   "metadata": {},
   "outputs": [
    {
     "data": {
      "text/plain": [
       "[12, 15, 11, 20]"
      ]
     },
     "execution_count": 25,
     "metadata": {},
     "output_type": "execute_result"
    }
   ],
   "source": [
    "flattened = [flat for x in matrix for flat in x if flat > 10 ]\n",
    "flattened"
   ]
  },
  {
   "cell_type": "code",
   "execution_count": 26,
   "id": "b0670d00-f236-40c2-8009-63e248ebc39c",
   "metadata": {},
   "outputs": [],
   "source": [
    "list_a = [1, 2, 3, 4, 5]\n",
    "list_b = [8, 9, 10, 11, 12]"
   ]
  },
  {
   "cell_type": "code",
   "execution_count": 28,
   "id": "88f838be-9d82-408d-b3c9-719388db7953",
   "metadata": {
    "scrolled": true
   },
   "outputs": [
    {
     "data": {
      "text/plain": [
       "[(1, 9), (2, 8), (3, 12), (4, 11), (5, 10)]"
      ]
     },
     "execution_count": 28,
     "metadata": {},
     "output_type": "execute_result"
    }
   ],
   "source": [
    "pairs = [(a,b) for a in list_a for b in list_b if (a + b) % 5 == 0]\n",
    "pairs"
   ]
  },
  {
   "cell_type": "code",
   "execution_count": 29,
   "id": "bce29c43-8db8-4620-9667-304ed0b4d6d7",
   "metadata": {},
   "outputs": [],
   "source": [
    "matrix = [\n",
    "    [1, 2, 3],\n",
    "    [4, 5, 6],\n",
    "    [7, 8, 9]\n",
    "]"
   ]
  },
  {
   "cell_type": "code",
   "execution_count": 36,
   "id": "b4c33765-ad45-4c3f-b14c-347aea26bb0e",
   "metadata": {},
   "outputs": [
    {
     "data": {
      "text/plain": [
       "[[1, 4, 7], [2, 5, 8], [3, 6, 9]]"
      ]
     },
     "execution_count": 36,
     "metadata": {},
     "output_type": "execute_result"
    }
   ],
   "source": [
    "transposed = [[row[i] for row in matrix] for i in range(3)]\n",
    "transposed"
   ]
  },
  {
   "cell_type": "code",
   "execution_count": 38,
   "id": "11cd41e4-84e1-4a05-b523-61f1b59d6b44",
   "metadata": {},
   "outputs": [],
   "source": [
    "sentence = [\"The\", \"quick\", \"brown\", \"fox\", \"jumps\", \"over\", \"the\", \"lazy\", \"dog\"]"
   ]
  },
  {
   "cell_type": "code",
   "execution_count": 40,
   "id": "1d68354b-db8f-4101-98bb-8b12fe28d2df",
   "metadata": {},
   "outputs": [],
   "source": [
    "dict = [{'word': word, 'len': len(word), 'first_letter': word[0]}\n",
    "          \n",
    "            for word in sentence\n",
    "            if word.lower() != 'the']"
   ]
  },
  {
   "cell_type": "code",
   "execution_count": 41,
   "id": "d711e369-2e27-484e-9c3e-8ef5e6bc26b0",
   "metadata": {},
   "outputs": [
    {
     "data": {
      "text/plain": [
       "[{'word': 'quick', 'len': 5, 'first_letter': 'q'},\n",
       " {'word': 'brown', 'len': 5, 'first_letter': 'b'},\n",
       " {'word': 'fox', 'len': 3, 'first_letter': 'f'},\n",
       " {'word': 'jumps', 'len': 5, 'first_letter': 'j'},\n",
       " {'word': 'over', 'len': 4, 'first_letter': 'o'},\n",
       " {'word': 'lazy', 'len': 4, 'first_letter': 'l'},\n",
       " {'word': 'dog', 'len': 3, 'first_letter': 'd'}]"
      ]
     },
     "execution_count": 41,
     "metadata": {},
     "output_type": "execute_result"
    }
   ],
   "source": [
    "dict"
   ]
  },
  {
   "cell_type": "code",
   "execution_count": null,
   "id": "8c6463b4-972b-4380-ba15-0b493e016ddc",
   "metadata": {},
   "outputs": [],
   "source": []
  },
  {
   "cell_type": "code",
   "execution_count": null,
   "id": "22eab37b-09f8-442e-94de-e5896cfee0f4",
   "metadata": {},
   "outputs": [],
   "source": []
  },
  {
   "cell_type": "code",
   "execution_count": null,
   "id": "79acda31-b6bb-44f8-b3e6-b4c8ef5a7501",
   "metadata": {},
   "outputs": [],
   "source": []
  },
  {
   "cell_type": "code",
   "execution_count": null,
   "id": "99d0b482-36cd-417c-8876-3cbf844decbe",
   "metadata": {},
   "outputs": [],
   "source": []
  }
 ],
 "metadata": {
  "kernelspec": {
   "display_name": "Python 3 (ipykernel)",
   "language": "python",
   "name": "python3"
  },
  "language_info": {
   "codemirror_mode": {
    "name": "ipython",
    "version": 3
   },
   "file_extension": ".py",
   "mimetype": "text/x-python",
   "name": "python",
   "nbconvert_exporter": "python",
   "pygments_lexer": "ipython3",
   "version": "3.12.7"
  }
 },
 "nbformat": 4,
 "nbformat_minor": 5
}

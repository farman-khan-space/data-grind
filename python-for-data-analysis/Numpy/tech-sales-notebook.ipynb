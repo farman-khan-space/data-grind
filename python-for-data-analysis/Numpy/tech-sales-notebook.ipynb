{
 "cells": [
  {
   "cell_type": "code",
   "execution_count": 1,
   "id": "cf67144b-d587-4e3d-8051-b99942e82813",
   "metadata": {},
   "outputs": [],
   "source": [
    "import numpy as np\n",
    "np.set_printoptions(suppress = True, precision = 4)"
   ]
  },
  {
   "cell_type": "code",
   "execution_count": 2,
   "id": "f7e5f37b-79f1-4f8b-a7ba-366fd4c76292",
   "metadata": {},
   "outputs": [],
   "source": [
    "sales_data_list = [\n",
    "  [    1001,        1,        1,        2,    85000,    75000,       25,        0,        0,      501],\n",
    "  [    1002,        0,        0,        1,   150000,   135000,       25,        1,        0,      502],\n",
    "  [    1003,        2,        2,        5,    15000,    12000,       26,        2,      0.1,      503],\n",
    "  [    1004,        3,        2,       10,     2500,     2000,       26,        0,     0.15,      501],\n",
    "  [    1005,        1,        1,        1,    90000,    80000,       27,        1,        0,      504],\n",
    "  [    1006,        0,        0,        1,   155000,   138000,       27,        2,        0,      505],\n",
    "  [    1007,        2,        2,        8,    14000,    11500,       28,        0,      0.1,      506],\n",
    "  [    1008,        1,        1,        3,    88000,    78000,       28,        1,     0.05,      502],\n",
    "  [    1009,        0,        0,        2,   148000,   132000,       29,        2,        0,      507],\n",
    "  [    1010,        2,        2,        4,    15500,    12500,       29,        0,      0.1,      503],\n",
    "  [    1011,        3,        2,       12,     2400,     1900,       30,        1,     0.15,      508],\n",
    "  [    1012,        1,        1,        1,    92000,    81000,       30,        2,        0,      504],\n",
    "  [    1013,        0,        0,        1,   160000,   142000,       31,        0,        0,      509],\n",
    "  [    1014,        2,        2,        6,    14500,    11800,       31,        1,      0.1,      505],\n",
    "  [    1015,        1,        1,        2,    86000,    76000,       32,        2,     0.05,      510],\n",
    "  [    1016,        3,        2,       15,     2300,     1800,       32,        0,      0.2,      506],\n",
    "  [    1017,        0,        0,        1,   152000,   136000,       33,        1,        0,      511],\n",
    "  [    1018,        1,        1,        1,    89000,    79000,       33,        2,        0,      507],\n",
    "  [    1019,        2,        2,        7,    13000,    11000,       34,        0,      0.1,      508],\n",
    "  [    1020,        0,        0,        3,   150000,   135000,       34,        1,     0.05,      512],\n",
    "  [    1021,        1,        1,        2,    91000,    80500,       35,        2,        0,      509],\n",
    "  [    1022,        2,        2,        3,    16000,    13000,       35,        0,        0,      510],\n",
    "  [    1023,        3,        2,        9,     2600,     2100,       36,        1,     0.15,      513],\n",
    "  [    1024,        0,        0,        1,   158000,   140000,       36,        2,        0,      511],\n",
    "  [    1025,        1,        1,        1,    84000,    74000,       37,        0,        0,      514],\n",
    "  [    1026,        2,        2,        5,    14000,    11500,       37,        1,      0.1,      512],\n",
    "  [    1027,        0,        0,        2,   145000,   130000,       38,        2,        0,      515],\n",
    "  [    1028,        1,        1,        4,    87000,    77000,       38,        0,     0.05,      513],\n",
    "  [    1029,        3,        2,       11,     2500,     2000,       39,        1,     0.15,      516],\n",
    "  [    1030,        2,        2,        6,    15000,    12000,       39,        2,      0.1,      514],\n",
    "  [    1031,        0,        0,        1,   162000,   145000,       40,        0,        0,      517],\n",
    "  [    1032,        1,        1,        1,    93000,    82000,       40,        1,        0,      515],\n",
    "  [    1033,        2,        2,        8,    13500,    11200,       41,        2,      0.1,      518],\n",
    "  [    1034,        0,        0,        2,   155000,   138000,       41,        0,     0.05,      516],\n",
    "  [    1035,        1,        1,        3,    89500,    79500,       42,        1,        0,      519],\n",
    "  [    1036,        3,        2,       14,     2350,     1850,       42,        2,      0.2,      517],\n",
    "  [    1037,        2,        2,        4,    15800,    12800,       43,        0,      0.1,      520],\n",
    "  [    1038,        0,        0,        1,   149000,   133000,       43,        1,        0,      518],\n",
    "  [    1039,        1,        1,        1,    90500,    80000,       44,        2,        0,      521],\n",
    "  [    1040,        2,        2,        7,    14200,    11600,       44,        0,      0.1,      519],\n",
    "  [    1041,        0,        0,        1,   153000,   137000,       45,        1,        0,      522],\n",
    "  [    1042,        1,        1,        2,    88500,    78500,       45,        2,     0.05,      520],\n",
    "  [    1043,        3,        2,       10,     2550,     2050,       46,        0,     0.15,      523],\n",
    "  [    1044,        2,        2,        6,    15100,    12100,       46,        1,      0.1,      521],\n",
    "  [    1045,        0,        0,        2,   159000,   141000,       47,        2,        0,      524],\n",
    "  [    1046,        1,        1,        1,    92500,    81500,       47,        0,        0,      522],\n",
    "  [    1047,        2,        2,        9,    13800,    11400,       48,        1,      0.1,      525],\n",
    "  [    1048,        0,        0,        1,   161000,   144000,       48,        2,        0,      523],\n",
    "  [    1049,        1,        1,        3,    87500,    77500,       49,        0,     0.05,      526],\n",
    "  [    1050,        3,        2,       13,     2450,     1950,       49,        1,      0.2,      524],\n",
    "  [    1051,        2,        2,        5,    14800,    11900,       50,        2,      0.1,      527],\n",
    "  [    1052,        0,        0,        1,   156000,   139000,       50,        0,        0,      525],\n",
    "  [    1053,        1,        1,        1,    94000,    83000,       51,        1,        0,      528],\n",
    "  [    1054,        2,        2,        8,    12800,    10800,       51,        2,      0.1,      526],\n",
    "  [    1055,        0,        0,        2,   151000,   135000,       52,        0,     0.05,      529]\n",
    "]"
   ]
  },
  {
   "cell_type": "markdown",
   "id": "256e8ad4-baf4-4d28-a5ed-0c5d3ee578d0",
   "metadata": {},
   "source": [
    "# 1. First Look: Data Loading & Inspection<b>\n",
    "\n",
    "### Load the data into a NumPy array and get a feel for its structure.\n",
    "\n",
    "\n",
    " 1. Convert 'sales_data_list' into 'sales_arr'. <b>\n",
    " 2. Print the array's .shape and .dtype"
   ]
  },
  {
   "cell_type": "code",
   "execution_count": 3,
   "id": "42a90fb1-7a35-4662-bddf-6140eb1322b9",
   "metadata": {},
   "outputs": [],
   "source": [
    "sales_data_array = np.array(sales_data_list)"
   ]
  },
  {
   "cell_type": "code",
   "execution_count": 4,
   "id": "815419f8-6b95-46e4-a0c8-8d838d6d278e",
   "metadata": {},
   "outputs": [
    {
     "data": {
      "text/plain": [
       "(55, 10)"
      ]
     },
     "execution_count": 4,
     "metadata": {},
     "output_type": "execute_result"
    }
   ],
   "source": [
    "sales_data_array.shape"
   ]
  },
  {
   "cell_type": "code",
   "execution_count": 5,
   "id": "4a222a57-fecc-4b6c-8fd2-a7b94cf292a6",
   "metadata": {},
   "outputs": [
    {
     "data": {
      "text/plain": [
       "2"
      ]
     },
     "execution_count": 5,
     "metadata": {},
     "output_type": "execute_result"
    }
   ],
   "source": [
    "sales_data_array.ndim"
   ]
  },
  {
   "cell_type": "code",
   "execution_count": 6,
   "id": "3efd516b-6963-4066-9acf-a0de1b38c30a",
   "metadata": {},
   "outputs": [
    {
     "data": {
      "text/plain": [
       "dtype('float64')"
      ]
     },
     "execution_count": 6,
     "metadata": {},
     "output_type": "execute_result"
    }
   ],
   "source": [
    "sales_data_array.dtype"
   ]
  },
  {
   "cell_type": "code",
   "execution_count": 7,
   "id": "105af5d6-0750-4c9c-b015-8c154da8fbb4",
   "metadata": {},
   "outputs": [
    {
     "data": {
      "text/plain": [
       "array([[  1001.  ,      1.  ,      1.  ,      2.  ,  85000.  ,  75000.  ,\n",
       "            25.  ,      0.  ,      0.  ,    501.  ],\n",
       "       [  1002.  ,      0.  ,      0.  ,      1.  , 150000.  , 135000.  ,\n",
       "            25.  ,      1.  ,      0.  ,    502.  ],\n",
       "       [  1003.  ,      2.  ,      2.  ,      5.  ,  15000.  ,  12000.  ,\n",
       "            26.  ,      2.  ,      0.1 ,    503.  ],\n",
       "       [  1004.  ,      3.  ,      2.  ,     10.  ,   2500.  ,   2000.  ,\n",
       "            26.  ,      0.  ,      0.15,    501.  ],\n",
       "       [  1005.  ,      1.  ,      1.  ,      1.  ,  90000.  ,  80000.  ,\n",
       "            27.  ,      1.  ,      0.  ,    504.  ]])"
      ]
     },
     "execution_count": 7,
     "metadata": {},
     "output_type": "execute_result"
    }
   ],
   "source": [
    "sales_data_array[:5]  #printing the first five rows of sale-data"
   ]
  },
  {
   "cell_type": "markdown",
   "id": "e72561ae-11fd-418f-b2d9-d5a4d12298b6",
   "metadata": {},
   "source": [
    "# 2. Profit Calculation: Vectorized Arithmetic<b>\n",
    "\n",
    "### Calculate the total profit for each order line item.\n",
    "    \n",
    "1. Calculate total profit: (SalePrice - CostPrice) * UnitsSold.\n",
    "    <b>\n",
    "2. Print the first 5 profit values."
   ]
  },
  {
   "cell_type": "code",
   "execution_count": 8,
   "id": "68911d7a-588a-4c80-86e6-729866059c1d",
   "metadata": {},
   "outputs": [],
   "source": [
    "#we have the total profit formula above, but we don't know the which columns is which\n",
    "#so first we will look into the assignment html for the column reference\n",
    "# Col 4: SalePrice\n",
    "# Col 5: CostPrice\n",
    "# Col 3: UnitsSold   #note that the columns are indexed in pythonic way like starting from zero"
   ]
  },
  {
   "cell_type": "code",
   "execution_count": 9,
   "id": "89f36776-7f41-41c2-a33d-38f95082d8a1",
   "metadata": {},
   "outputs": [],
   "source": [
    "SalesPrice = sales_data_array[:,4] #the sales price column we have sliced it\n",
    "CostPrice = sales_data_array[:,5]\n",
    "UnitSold  = sales_data_array[:,3] #you can always use the indexed version instead of creating new variables."
   ]
  },
  {
   "cell_type": "code",
   "execution_count": 10,
   "id": "8d663545-2634-4c55-a082-85d63340170e",
   "metadata": {},
   "outputs": [],
   "source": [
    "#now to calculate the Total Profit\n",
    "TotalProfit = (SalesPrice - CostPrice) * UnitSold"
   ]
  },
  {
   "cell_type": "code",
   "execution_count": 11,
   "id": "4f4b3401-b543-4d5f-a03e-edbe96f3df78",
   "metadata": {},
   "outputs": [
    {
     "data": {
      "text/plain": [
       "array([20000., 15000., 15000.,  5000., 10000.])"
      ]
     },
     "execution_count": 11,
     "metadata": {},
     "output_type": "execute_result"
    }
   ],
   "source": [
    "TotalProfit[:5] #first five rows of the TotalProfit"
   ]
  },
  {
   "cell_type": "code",
   "execution_count": 12,
   "id": "d7ac6f93-eced-4284-9056-5c3e9b6aebb5",
   "metadata": {},
   "outputs": [],
   "source": [
    "#you can also use the following code directly if you don't want to create new variables.\n",
    "# TotalProfit = (sales_data_array[:,4] - sales_data_array[:,5]) * sales_data_array[:,3]\n",
    "\n",
    "# The above code will have the same result as the previous one, the previous one is just a bit clearer"
   ]
  },
  {
   "cell_type": "markdown",
   "id": "c5cb13ee-caef-4d13-99da-8e36708bb314",
   "metadata": {},
   "source": [
    "# 3. High-Value Orders: Boolean Indexing\n",
    "### Isolate orders where more than 5 units were sold.\n",
    "1. Create a boolean mask where UnitsSold > 5.\n",
    "<b> \n",
    "2. Use it to select the high-value orders.\n",
    "<b>\n",
    "3. Print the shape of the resulting array."
   ]
  },
  {
   "cell_type": "code",
   "execution_count": 13,
   "id": "74533300-2bad-4b81-880b-e08767ce8624",
   "metadata": {},
   "outputs": [],
   "source": [
    "UnitSold_mask = sales_data_array[:,3] > 5 #this creates an array that contains the True/False values \n",
    "\n",
    "# The true/false values are results of instances that meets the criteria we defined \n",
    "# the bolean mask i.e the true/false array is used to filter out the instances \n",
    "# instead of using for loops and if logics we use simple numpy indexing and some criterias\n",
    "# this is very fast and intuitive \n",
    "# in this example our goal is to find out the orders that have sold units more than 5."
   ]
  },
  {
   "cell_type": "code",
   "execution_count": 14,
   "id": "ce7c5534-bc31-4f1c-b15e-f30f5a9ed598",
   "metadata": {},
   "outputs": [
    {
     "name": "stdout",
     "output_type": "stream",
     "text": [
      "17\n"
     ]
    }
   ],
   "source": [
    "print(np.sum(UnitSold_mask)) #to find out the number of instance where sold unit is greater than 5"
   ]
  },
  {
   "cell_type": "code",
   "execution_count": 15,
   "id": "8e53a729-18ef-4355-b03d-37a7ae36d450",
   "metadata": {},
   "outputs": [],
   "source": [
    "high_value_orders = sales_data_array[UnitSold_mask]"
   ]
  },
  {
   "cell_type": "code",
   "execution_count": 16,
   "id": "7748e960-839c-4963-b6d0-c662b0438442",
   "metadata": {},
   "outputs": [
    {
     "data": {
      "text/plain": [
       "array([[ 1004.  ,     3.  ,     2.  ,    10.  ,  2500.  ,  2000.  ,\n",
       "           26.  ,     0.  ,     0.15,   501.  ],\n",
       "       [ 1007.  ,     2.  ,     2.  ,     8.  , 14000.  , 11500.  ,\n",
       "           28.  ,     0.  ,     0.1 ,   506.  ],\n",
       "       [ 1011.  ,     3.  ,     2.  ,    12.  ,  2400.  ,  1900.  ,\n",
       "           30.  ,     1.  ,     0.15,   508.  ],\n",
       "       [ 1014.  ,     2.  ,     2.  ,     6.  , 14500.  , 11800.  ,\n",
       "           31.  ,     1.  ,     0.1 ,   505.  ],\n",
       "       [ 1016.  ,     3.  ,     2.  ,    15.  ,  2300.  ,  1800.  ,\n",
       "           32.  ,     0.  ,     0.2 ,   506.  ],\n",
       "       [ 1019.  ,     2.  ,     2.  ,     7.  , 13000.  , 11000.  ,\n",
       "           34.  ,     0.  ,     0.1 ,   508.  ],\n",
       "       [ 1023.  ,     3.  ,     2.  ,     9.  ,  2600.  ,  2100.  ,\n",
       "           36.  ,     1.  ,     0.15,   513.  ],\n",
       "       [ 1029.  ,     3.  ,     2.  ,    11.  ,  2500.  ,  2000.  ,\n",
       "           39.  ,     1.  ,     0.15,   516.  ],\n",
       "       [ 1030.  ,     2.  ,     2.  ,     6.  , 15000.  , 12000.  ,\n",
       "           39.  ,     2.  ,     0.1 ,   514.  ],\n",
       "       [ 1033.  ,     2.  ,     2.  ,     8.  , 13500.  , 11200.  ,\n",
       "           41.  ,     2.  ,     0.1 ,   518.  ],\n",
       "       [ 1036.  ,     3.  ,     2.  ,    14.  ,  2350.  ,  1850.  ,\n",
       "           42.  ,     2.  ,     0.2 ,   517.  ],\n",
       "       [ 1040.  ,     2.  ,     2.  ,     7.  , 14200.  , 11600.  ,\n",
       "           44.  ,     0.  ,     0.1 ,   519.  ],\n",
       "       [ 1043.  ,     3.  ,     2.  ,    10.  ,  2550.  ,  2050.  ,\n",
       "           46.  ,     0.  ,     0.15,   523.  ],\n",
       "       [ 1044.  ,     2.  ,     2.  ,     6.  , 15100.  , 12100.  ,\n",
       "           46.  ,     1.  ,     0.1 ,   521.  ],\n",
       "       [ 1047.  ,     2.  ,     2.  ,     9.  , 13800.  , 11400.  ,\n",
       "           48.  ,     1.  ,     0.1 ,   525.  ],\n",
       "       [ 1050.  ,     3.  ,     2.  ,    13.  ,  2450.  ,  1950.  ,\n",
       "           49.  ,     1.  ,     0.2 ,   524.  ],\n",
       "       [ 1054.  ,     2.  ,     2.  ,     8.  , 12800.  , 10800.  ,\n",
       "           51.  ,     2.  ,     0.1 ,   526.  ]])"
      ]
     },
     "execution_count": 16,
     "metadata": {},
     "output_type": "execute_result"
    }
   ],
   "source": [
    "high_value_orders #these are the orders that contains the Unit sold more than 5"
   ]
  },
  {
   "cell_type": "code",
   "execution_count": 17,
   "id": "82d2b0a2-5ae2-43ff-927c-9416e3fddd5d",
   "metadata": {},
   "outputs": [
    {
     "data": {
      "text/plain": [
       "(17, 10)"
      ]
     },
     "execution_count": 17,
     "metadata": {},
     "output_type": "execute_result"
    }
   ],
   "source": [
    "high_value_orders.shape"
   ]
  },
  {
   "cell_type": "markdown",
   "id": "6743f334-1efd-4f98-b02d-638c5d22ea46",
   "metadata": {},
   "source": [
    "# 4. Smartphone Sales Stats: Combining Masks <b>\n",
    "\n",
    "### Find the average sale price for smartphones in the Central region.<b>\n",
    " \n",
    "1. Create masks for ProductID == 1 and RegionID == 2.<b> \n",
    "\n",
    "2. Combine them with '&'.<b> \n",
    "\n",
    "3. Use the mask to get the SalePrice and find its mean.<b> \n",
    " \n",
    "Col 1: ProductID (0: Laptop, 1: Smartphone, 2: Headphones, 3: Charger)\n",
    "\n",
    "Col 7: RegionID (0: North, 1: South, 2: Central)"
   ]
  },
  {
   "cell_type": "code",
   "execution_count": 18,
   "id": "285e62df-4e09-4d42-93c5-b2c4d421b534",
   "metadata": {},
   "outputs": [],
   "source": [
    "smartphones = sales_data_array[:,1] == 1  \n",
    "central_region = sales_data_array[:,7] == 2"
   ]
  },
  {
   "cell_type": "code",
   "execution_count": 19,
   "id": "ff6db8c8-c75a-4318-afbe-a7100531c88b",
   "metadata": {},
   "outputs": [],
   "source": [
    "smartphones_sales = smartphones & central_region\n",
    "#this will create a new bolean mask of True/false \n",
    "#there will only be a true value if in both of the above have a true on the same instance"
   ]
  },
  {
   "cell_type": "code",
   "execution_count": 20,
   "id": "50a94635-4c3f-4d62-b257-afb2e270e473",
   "metadata": {},
   "outputs": [
    {
     "data": {
      "text/plain": [
       "array([[ 1012.  ,     1.  ,     1.  ,     1.  , 92000.  , 81000.  ,\n",
       "           30.  ,     2.  ,     0.  ,   504.  ],\n",
       "       [ 1015.  ,     1.  ,     1.  ,     2.  , 86000.  , 76000.  ,\n",
       "           32.  ,     2.  ,     0.05,   510.  ],\n",
       "       [ 1018.  ,     1.  ,     1.  ,     1.  , 89000.  , 79000.  ,\n",
       "           33.  ,     2.  ,     0.  ,   507.  ],\n",
       "       [ 1021.  ,     1.  ,     1.  ,     2.  , 91000.  , 80500.  ,\n",
       "           35.  ,     2.  ,     0.  ,   509.  ],\n",
       "       [ 1039.  ,     1.  ,     1.  ,     1.  , 90500.  , 80000.  ,\n",
       "           44.  ,     2.  ,     0.  ,   521.  ],\n",
       "       [ 1042.  ,     1.  ,     1.  ,     2.  , 88500.  , 78500.  ,\n",
       "           45.  ,     2.  ,     0.05,   520.  ]])"
      ]
     },
     "execution_count": 20,
     "metadata": {},
     "output_type": "execute_result"
    }
   ],
   "source": [
    "smartphones_central_sales = sales_data_array[smartphones_sales]\n",
    "\n",
    "#this will create an array of a filtered sales_data that will contain the smartphones sales in centeral region only\n",
    "smartphones_central_sales"
   ]
  },
  {
   "cell_type": "code",
   "execution_count": 21,
   "id": "dc04f15e-46f0-4027-86c6-ce022cc9cb60",
   "metadata": {},
   "outputs": [
    {
     "name": "stdout",
     "output_type": "stream",
     "text": [
      "89500.0\n"
     ]
    }
   ],
   "source": [
    "#now the mean of the sale price in the central region for smartphone\n",
    "mean_price = np.mean(smartphones_central_sales[:,4])\n",
    "print(mean_price)"
   ]
  },
  {
   "cell_type": "markdown",
   "id": "a44e492f-4cad-4301-9c84-f6643b8d7a1d",
   "metadata": {},
   "source": [
    "# 5. Top Seller: Statistical Methods <b>\n",
    "### Find the OrderID of the transaction with the highest revenue.<b>\n",
    " 1. Calculate revenue (UnitsSold * SalePrice). <b>\n",
    " 2. Find the index of the max value with .argmax(). <b>\n",
    " 3. Use the index to get the OrderID.\n",
    "    "
   ]
  },
  {
   "cell_type": "code",
   "execution_count": 22,
   "id": "2b0b97e7-467e-45ab-b18a-6f134c5833bb",
   "metadata": {},
   "outputs": [],
   "source": [
    "#So basically we have to find the order that have generated the most revenue\n",
    "#that's why we need the 1. Revenue, 2. The index number of the row with highest Revenue and 3. The order Id\n",
    "\n",
    "revenue = (UnitSold * SalesPrice) #these variables have been defined in previous tasks"
   ]
  },
  {
   "cell_type": "code",
   "execution_count": 24,
   "id": "3553603f-ecd9-44db-b143-ef4da4df10e3",
   "metadata": {},
   "outputs": [
    {
     "data": {
      "text/plain": [
       "array([170000., 150000.,  75000.,  25000.,  90000.])"
      ]
     },
     "execution_count": 24,
     "metadata": {},
     "output_type": "execute_result"
    }
   ],
   "source": [
    "revenue[:5] #top five values of revenue"
   ]
  },
  {
   "cell_type": "code",
   "execution_count": 26,
   "id": "b4c5f905-34ed-4d02-9baa-0ff9a0422a52",
   "metadata": {},
   "outputs": [
    {
     "data": {
      "text/plain": [
       "(55,)"
      ]
     },
     "execution_count": 26,
     "metadata": {},
     "output_type": "execute_result"
    }
   ],
   "source": [
    "revenue.shape"
   ]
  },
  {
   "cell_type": "code",
   "execution_count": 27,
   "id": "917eec5a-cb8c-499d-9907-86c6c231433b",
   "metadata": {},
   "outputs": [
    {
     "data": {
      "text/plain": [
       "19"
      ]
     },
     "execution_count": 27,
     "metadata": {},
     "output_type": "execute_result"
    }
   ],
   "source": [
    "revenue.argmax() #this will give us the index number with the maximum revenue"
   ]
  },
  {
   "cell_type": "code",
   "execution_count": 29,
   "id": "67b8df53-e95e-4d84-9d5c-84297f71cc50",
   "metadata": {},
   "outputs": [
    {
     "data": {
      "text/plain": [
       "array([  1020.  ,      0.  ,      0.  ,      3.  , 150000.  , 135000.  ,\n",
       "           34.  ,      1.  ,      0.05,    512.  ])"
      ]
     },
     "execution_count": 29,
     "metadata": {},
     "output_type": "execute_result"
    }
   ],
   "source": [
    "sales_data_array[19,:] #this will give us the 20th row with index number 19"
   ]
  },
  {
   "cell_type": "code",
   "execution_count": 31,
   "id": "6a987625-4b89-4293-ba60-25ad3efec6d3",
   "metadata": {},
   "outputs": [
    {
     "data": {
      "text/plain": [
       "1020.0"
      ]
     },
     "execution_count": 31,
     "metadata": {},
     "output_type": "execute_result"
    }
   ],
   "source": [
    "#as the orderID column is the first one so we can write\n",
    "sales_data_array[19,0] # 20th row with index number 19 and first column(orderID)"
   ]
  },
  {
   "cell_type": "markdown",
   "id": "fe974143-4653-4d2f-b190-fb9fe60170b4",
   "metadata": {},
   "source": [
    "# 6. Discount Impact: Modifying with Slicing <b>\n",
    "### Apply a 5% discount to all Laptop sales. <b>\n",
    "\n",
    " 1. Create a mask for laptop sales (ProductID == 0).<b>\n",
    " 2. Select the 'Discount' column for those sales.<b>\n",
    " 3. Set their value to 0.05."
   ]
  },
  {
   "cell_type": "code",
   "execution_count": 38,
   "id": "b6456bc7-901a-41ba-8584-a9168dfe239c",
   "metadata": {},
   "outputs": [],
   "source": [
    "laptop_mask = sales_data_array[:,1] == 0"
   ]
  },
  {
   "cell_type": "code",
   "execution_count": 40,
   "id": "1d190791-a74a-4212-a764-832525020fc0",
   "metadata": {},
   "outputs": [
    {
     "data": {
      "text/plain": [
       "(55,)"
      ]
     },
     "execution_count": 40,
     "metadata": {},
     "output_type": "execute_result"
    }
   ],
   "source": [
    "laptop_mask.shape"
   ]
  },
  {
   "cell_type": "code",
   "execution_count": 41,
   "id": "467c1cf4-ee5f-4518-b2a4-4411b28aa7cc",
   "metadata": {},
   "outputs": [],
   "source": [
    "laptop_sales = sales_data_array[laptop_mask] #this will give an array which will contain only laptop sales\n",
    "\n",
    "#you can also use {laptops_sales = sales_data_array[(sales_data_array[:,1] == 0) ]} instead of intermediate steps"
   ]
  },
  {
   "cell_type": "code",
   "execution_count": 36,
   "id": "670af2c1-e604-4f26-8b1a-3d65e4cf81ca",
   "metadata": {},
   "outputs": [
    {
     "data": {
      "text/plain": [
       "array([[  1002.  ,      0.  ,      0.  ,      1.  , 150000.  , 135000.  ,\n",
       "            25.  ,      1.  ,      0.  ,    502.  ],\n",
       "       [  1006.  ,      0.  ,      0.  ,      1.  , 155000.  , 138000.  ,\n",
       "            27.  ,      2.  ,      0.  ,    505.  ],\n",
       "       [  1009.  ,      0.  ,      0.  ,      2.  , 148000.  , 132000.  ,\n",
       "            29.  ,      2.  ,      0.  ,    507.  ],\n",
       "       [  1013.  ,      0.  ,      0.  ,      1.  , 160000.  , 142000.  ,\n",
       "            31.  ,      0.  ,      0.  ,    509.  ],\n",
       "       [  1017.  ,      0.  ,      0.  ,      1.  , 152000.  , 136000.  ,\n",
       "            33.  ,      1.  ,      0.  ,    511.  ],\n",
       "       [  1020.  ,      0.  ,      0.  ,      3.  , 150000.  , 135000.  ,\n",
       "            34.  ,      1.  ,      0.05,    512.  ],\n",
       "       [  1024.  ,      0.  ,      0.  ,      1.  , 158000.  , 140000.  ,\n",
       "            36.  ,      2.  ,      0.  ,    511.  ],\n",
       "       [  1027.  ,      0.  ,      0.  ,      2.  , 145000.  , 130000.  ,\n",
       "            38.  ,      2.  ,      0.  ,    515.  ],\n",
       "       [  1031.  ,      0.  ,      0.  ,      1.  , 162000.  , 145000.  ,\n",
       "            40.  ,      0.  ,      0.  ,    517.  ],\n",
       "       [  1034.  ,      0.  ,      0.  ,      2.  , 155000.  , 138000.  ,\n",
       "            41.  ,      0.  ,      0.05,    516.  ],\n",
       "       [  1038.  ,      0.  ,      0.  ,      1.  , 149000.  , 133000.  ,\n",
       "            43.  ,      1.  ,      0.  ,    518.  ],\n",
       "       [  1041.  ,      0.  ,      0.  ,      1.  , 153000.  , 137000.  ,\n",
       "            45.  ,      1.  ,      0.  ,    522.  ],\n",
       "       [  1045.  ,      0.  ,      0.  ,      2.  , 159000.  , 141000.  ,\n",
       "            47.  ,      2.  ,      0.  ,    524.  ],\n",
       "       [  1048.  ,      0.  ,      0.  ,      1.  , 161000.  , 144000.  ,\n",
       "            48.  ,      2.  ,      0.  ,    523.  ],\n",
       "       [  1052.  ,      0.  ,      0.  ,      1.  , 156000.  , 139000.  ,\n",
       "            50.  ,      0.  ,      0.  ,    525.  ],\n",
       "       [  1055.  ,      0.  ,      0.  ,      2.  , 151000.  , 135000.  ,\n",
       "            52.  ,      0.  ,      0.05,    529.  ]])"
      ]
     },
     "execution_count": 36,
     "metadata": {},
     "output_type": "execute_result"
    }
   ],
   "source": [
    "laptop_sales"
   ]
  },
  {
   "cell_type": "code",
   "execution_count": 44,
   "id": "def0d2aa-ff3f-481e-9e69-9829efea247e",
   "metadata": {},
   "outputs": [],
   "source": [
    "#now to apply the discount 0.5 to all laptop sales\n",
    "#as the discount column is the 9th column i.e with index 8 so we will use it\n",
    "\n",
    "laptop_sales[:,8] = 0.5 "
   ]
  },
  {
   "cell_type": "code",
   "execution_count": 45,
   "id": "289dd5f5-37b1-422a-9a20-cff7b1e6b52c",
   "metadata": {},
   "outputs": [
    {
     "data": {
      "text/plain": [
       "array([[  1002. ,      0. ,      0. ,      1. , 150000. , 135000. ,\n",
       "            25. ,      1. ,      0.5,    502. ],\n",
       "       [  1006. ,      0. ,      0. ,      1. , 155000. , 138000. ,\n",
       "            27. ,      2. ,      0.5,    505. ],\n",
       "       [  1009. ,      0. ,      0. ,      2. , 148000. , 132000. ,\n",
       "            29. ,      2. ,      0.5,    507. ],\n",
       "       [  1013. ,      0. ,      0. ,      1. , 160000. , 142000. ,\n",
       "            31. ,      0. ,      0.5,    509. ],\n",
       "       [  1017. ,      0. ,      0. ,      1. , 152000. , 136000. ,\n",
       "            33. ,      1. ,      0.5,    511. ],\n",
       "       [  1020. ,      0. ,      0. ,      3. , 150000. , 135000. ,\n",
       "            34. ,      1. ,      0.5,    512. ],\n",
       "       [  1024. ,      0. ,      0. ,      1. , 158000. , 140000. ,\n",
       "            36. ,      2. ,      0.5,    511. ],\n",
       "       [  1027. ,      0. ,      0. ,      2. , 145000. , 130000. ,\n",
       "            38. ,      2. ,      0.5,    515. ],\n",
       "       [  1031. ,      0. ,      0. ,      1. , 162000. , 145000. ,\n",
       "            40. ,      0. ,      0.5,    517. ],\n",
       "       [  1034. ,      0. ,      0. ,      2. , 155000. , 138000. ,\n",
       "            41. ,      0. ,      0.5,    516. ],\n",
       "       [  1038. ,      0. ,      0. ,      1. , 149000. , 133000. ,\n",
       "            43. ,      1. ,      0.5,    518. ],\n",
       "       [  1041. ,      0. ,      0. ,      1. , 153000. , 137000. ,\n",
       "            45. ,      1. ,      0.5,    522. ],\n",
       "       [  1045. ,      0. ,      0. ,      2. , 159000. , 141000. ,\n",
       "            47. ,      2. ,      0.5,    524. ],\n",
       "       [  1048. ,      0. ,      0. ,      1. , 161000. , 144000. ,\n",
       "            48. ,      2. ,      0.5,    523. ],\n",
       "       [  1052. ,      0. ,      0. ,      1. , 156000. , 139000. ,\n",
       "            50. ,      0. ,      0.5,    525. ],\n",
       "       [  1055. ,      0. ,      0. ,      2. , 151000. , 135000. ,\n",
       "            52. ,      0. ,      0.5,    529. ]])"
      ]
     },
     "execution_count": 45,
     "metadata": {},
     "output_type": "execute_result"
    }
   ],
   "source": [
    "laptop_sales"
   ]
  },
  {
   "cell_type": "code",
   "execution_count": 46,
   "id": "6b5dadd7-969c-4496-b4f5-04ce8bf1bf0c",
   "metadata": {},
   "outputs": [
    {
     "data": {
      "text/plain": [
       "array([[  1001.  ,      1.  ,      1.  ,      2.  ,  85000.  ,  75000.  ,\n",
       "            25.  ,      0.  ,      0.  ,    501.  ],\n",
       "       [  1002.  ,      0.  ,      0.  ,      1.  , 150000.  , 135000.  ,\n",
       "            25.  ,      1.  ,      0.  ,    502.  ],\n",
       "       [  1003.  ,      2.  ,      2.  ,      5.  ,  15000.  ,  12000.  ,\n",
       "            26.  ,      2.  ,      0.1 ,    503.  ],\n",
       "       [  1004.  ,      3.  ,      2.  ,     10.  ,   2500.  ,   2000.  ,\n",
       "            26.  ,      0.  ,      0.15,    501.  ],\n",
       "       [  1005.  ,      1.  ,      1.  ,      1.  ,  90000.  ,  80000.  ,\n",
       "            27.  ,      1.  ,      0.  ,    504.  ],\n",
       "       [  1006.  ,      0.  ,      0.  ,      1.  , 155000.  , 138000.  ,\n",
       "            27.  ,      2.  ,      0.  ,    505.  ],\n",
       "       [  1007.  ,      2.  ,      2.  ,      8.  ,  14000.  ,  11500.  ,\n",
       "            28.  ,      0.  ,      0.1 ,    506.  ],\n",
       "       [  1008.  ,      1.  ,      1.  ,      3.  ,  88000.  ,  78000.  ,\n",
       "            28.  ,      1.  ,      0.05,    502.  ],\n",
       "       [  1009.  ,      0.  ,      0.  ,      2.  , 148000.  , 132000.  ,\n",
       "            29.  ,      2.  ,      0.  ,    507.  ],\n",
       "       [  1010.  ,      2.  ,      2.  ,      4.  ,  15500.  ,  12500.  ,\n",
       "            29.  ,      0.  ,      0.1 ,    503.  ],\n",
       "       [  1011.  ,      3.  ,      2.  ,     12.  ,   2400.  ,   1900.  ,\n",
       "            30.  ,      1.  ,      0.15,    508.  ],\n",
       "       [  1012.  ,      1.  ,      1.  ,      1.  ,  92000.  ,  81000.  ,\n",
       "            30.  ,      2.  ,      0.  ,    504.  ],\n",
       "       [  1013.  ,      0.  ,      0.  ,      1.  , 160000.  , 142000.  ,\n",
       "            31.  ,      0.  ,      0.  ,    509.  ],\n",
       "       [  1014.  ,      2.  ,      2.  ,      6.  ,  14500.  ,  11800.  ,\n",
       "            31.  ,      1.  ,      0.1 ,    505.  ],\n",
       "       [  1015.  ,      1.  ,      1.  ,      2.  ,  86000.  ,  76000.  ,\n",
       "            32.  ,      2.  ,      0.05,    510.  ],\n",
       "       [  1016.  ,      3.  ,      2.  ,     15.  ,   2300.  ,   1800.  ,\n",
       "            32.  ,      0.  ,      0.2 ,    506.  ],\n",
       "       [  1017.  ,      0.  ,      0.  ,      1.  , 152000.  , 136000.  ,\n",
       "            33.  ,      1.  ,      0.  ,    511.  ],\n",
       "       [  1018.  ,      1.  ,      1.  ,      1.  ,  89000.  ,  79000.  ,\n",
       "            33.  ,      2.  ,      0.  ,    507.  ],\n",
       "       [  1019.  ,      2.  ,      2.  ,      7.  ,  13000.  ,  11000.  ,\n",
       "            34.  ,      0.  ,      0.1 ,    508.  ],\n",
       "       [  1020.  ,      0.  ,      0.  ,      3.  , 150000.  , 135000.  ,\n",
       "            34.  ,      1.  ,      0.05,    512.  ],\n",
       "       [  1021.  ,      1.  ,      1.  ,      2.  ,  91000.  ,  80500.  ,\n",
       "            35.  ,      2.  ,      0.  ,    509.  ],\n",
       "       [  1022.  ,      2.  ,      2.  ,      3.  ,  16000.  ,  13000.  ,\n",
       "            35.  ,      0.  ,      0.  ,    510.  ],\n",
       "       [  1023.  ,      3.  ,      2.  ,      9.  ,   2600.  ,   2100.  ,\n",
       "            36.  ,      1.  ,      0.15,    513.  ],\n",
       "       [  1024.  ,      0.  ,      0.  ,      1.  , 158000.  , 140000.  ,\n",
       "            36.  ,      2.  ,      0.  ,    511.  ],\n",
       "       [  1025.  ,      1.  ,      1.  ,      1.  ,  84000.  ,  74000.  ,\n",
       "            37.  ,      0.  ,      0.  ,    514.  ],\n",
       "       [  1026.  ,      2.  ,      2.  ,      5.  ,  14000.  ,  11500.  ,\n",
       "            37.  ,      1.  ,      0.1 ,    512.  ],\n",
       "       [  1027.  ,      0.  ,      0.  ,      2.  , 145000.  , 130000.  ,\n",
       "            38.  ,      2.  ,      0.  ,    515.  ],\n",
       "       [  1028.  ,      1.  ,      1.  ,      4.  ,  87000.  ,  77000.  ,\n",
       "            38.  ,      0.  ,      0.05,    513.  ],\n",
       "       [  1029.  ,      3.  ,      2.  ,     11.  ,   2500.  ,   2000.  ,\n",
       "            39.  ,      1.  ,      0.15,    516.  ],\n",
       "       [  1030.  ,      2.  ,      2.  ,      6.  ,  15000.  ,  12000.  ,\n",
       "            39.  ,      2.  ,      0.1 ,    514.  ],\n",
       "       [  1031.  ,      0.  ,      0.  ,      1.  , 162000.  , 145000.  ,\n",
       "            40.  ,      0.  ,      0.  ,    517.  ],\n",
       "       [  1032.  ,      1.  ,      1.  ,      1.  ,  93000.  ,  82000.  ,\n",
       "            40.  ,      1.  ,      0.  ,    515.  ],\n",
       "       [  1033.  ,      2.  ,      2.  ,      8.  ,  13500.  ,  11200.  ,\n",
       "            41.  ,      2.  ,      0.1 ,    518.  ],\n",
       "       [  1034.  ,      0.  ,      0.  ,      2.  , 155000.  , 138000.  ,\n",
       "            41.  ,      0.  ,      0.05,    516.  ],\n",
       "       [  1035.  ,      1.  ,      1.  ,      3.  ,  89500.  ,  79500.  ,\n",
       "            42.  ,      1.  ,      0.  ,    519.  ],\n",
       "       [  1036.  ,      3.  ,      2.  ,     14.  ,   2350.  ,   1850.  ,\n",
       "            42.  ,      2.  ,      0.2 ,    517.  ],\n",
       "       [  1037.  ,      2.  ,      2.  ,      4.  ,  15800.  ,  12800.  ,\n",
       "            43.  ,      0.  ,      0.1 ,    520.  ],\n",
       "       [  1038.  ,      0.  ,      0.  ,      1.  , 149000.  , 133000.  ,\n",
       "            43.  ,      1.  ,      0.  ,    518.  ],\n",
       "       [  1039.  ,      1.  ,      1.  ,      1.  ,  90500.  ,  80000.  ,\n",
       "            44.  ,      2.  ,      0.  ,    521.  ],\n",
       "       [  1040.  ,      2.  ,      2.  ,      7.  ,  14200.  ,  11600.  ,\n",
       "            44.  ,      0.  ,      0.1 ,    519.  ],\n",
       "       [  1041.  ,      0.  ,      0.  ,      1.  , 153000.  , 137000.  ,\n",
       "            45.  ,      1.  ,      0.  ,    522.  ],\n",
       "       [  1042.  ,      1.  ,      1.  ,      2.  ,  88500.  ,  78500.  ,\n",
       "            45.  ,      2.  ,      0.05,    520.  ],\n",
       "       [  1043.  ,      3.  ,      2.  ,     10.  ,   2550.  ,   2050.  ,\n",
       "            46.  ,      0.  ,      0.15,    523.  ],\n",
       "       [  1044.  ,      2.  ,      2.  ,      6.  ,  15100.  ,  12100.  ,\n",
       "            46.  ,      1.  ,      0.1 ,    521.  ],\n",
       "       [  1045.  ,      0.  ,      0.  ,      2.  , 159000.  , 141000.  ,\n",
       "            47.  ,      2.  ,      0.  ,    524.  ],\n",
       "       [  1046.  ,      1.  ,      1.  ,      1.  ,  92500.  ,  81500.  ,\n",
       "            47.  ,      0.  ,      0.  ,    522.  ],\n",
       "       [  1047.  ,      2.  ,      2.  ,      9.  ,  13800.  ,  11400.  ,\n",
       "            48.  ,      1.  ,      0.1 ,    525.  ],\n",
       "       [  1048.  ,      0.  ,      0.  ,      1.  , 161000.  , 144000.  ,\n",
       "            48.  ,      2.  ,      0.  ,    523.  ],\n",
       "       [  1049.  ,      1.  ,      1.  ,      3.  ,  87500.  ,  77500.  ,\n",
       "            49.  ,      0.  ,      0.05,    526.  ],\n",
       "       [  1050.  ,      3.  ,      2.  ,     13.  ,   2450.  ,   1950.  ,\n",
       "            49.  ,      1.  ,      0.2 ,    524.  ],\n",
       "       [  1051.  ,      2.  ,      2.  ,      5.  ,  14800.  ,  11900.  ,\n",
       "            50.  ,      2.  ,      0.1 ,    527.  ],\n",
       "       [  1052.  ,      0.  ,      0.  ,      1.  , 156000.  , 139000.  ,\n",
       "            50.  ,      0.  ,      0.  ,    525.  ],\n",
       "       [  1053.  ,      1.  ,      1.  ,      1.  ,  94000.  ,  83000.  ,\n",
       "            51.  ,      1.  ,      0.  ,    528.  ],\n",
       "       [  1054.  ,      2.  ,      2.  ,      8.  ,  12800.  ,  10800.  ,\n",
       "            51.  ,      2.  ,      0.1 ,    526.  ],\n",
       "       [  1055.  ,      0.  ,      0.  ,      2.  , 151000.  , 135000.  ,\n",
       "            52.  ,      0.  ,      0.05,    529.  ]])"
      ]
     },
     "execution_count": 46,
     "metadata": {},
     "output_type": "execute_result"
    }
   ],
   "source": [
    "#now as the modification of a slice is the modification of the main array lets see the main array\n",
    "\n",
    "sales_data_array #now we can see alot of discount column have 0."
   ]
  },
  {
   "cell_type": "code",
   "execution_count": null,
   "id": "2192a4e3-5c5d-4b3a-81ad-07591cffc74b",
   "metadata": {},
   "outputs": [],
   "source": []
  }
 ],
 "metadata": {
  "kernelspec": {
   "display_name": "Python 3 (ipykernel)",
   "language": "python",
   "name": "python3"
  },
  "language_info": {
   "codemirror_mode": {
    "name": "ipython",
    "version": 3
   },
   "file_extension": ".py",
   "mimetype": "text/x-python",
   "name": "python",
   "nbconvert_exporter": "python",
   "pygments_lexer": "ipython3",
   "version": "3.12.7"
  }
 },
 "nbformat": 4,
 "nbformat_minor": 5
}

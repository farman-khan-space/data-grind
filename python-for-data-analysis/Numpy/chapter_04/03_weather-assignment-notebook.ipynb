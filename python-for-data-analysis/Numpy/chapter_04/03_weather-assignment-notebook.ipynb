{
 "cells": [
  {
   "cell_type": "code",
   "execution_count": 32,
   "id": "40828045-1a13-43d9-962e-f2192cb23df2",
   "metadata": {},
   "outputs": [],
   "source": [
    "import numpy as np\n",
    "np.set_printoptions(suppress= True, precision= 4)"
   ]
  },
  {
   "cell_type": "markdown",
   "id": "d8b1c3a9-9c48-49e8-872f-a79f7d3821e5",
   "metadata": {},
   "source": [
    "# 1. Generate the Temperature Data"
   ]
  },
  {
   "cell_type": "code",
   "execution_count": 43,
   "id": "6086f175-887b-475e-b6c7-208f7b4a7689",
   "metadata": {},
   "outputs": [],
   "source": [
    "np.random.seed(42)\n",
    "temperature_celsuis = np.random.normal( loc = 13, scale = 8, size = 365)"
   ]
  },
  {
   "cell_type": "code",
   "execution_count": 44,
   "id": "488b5720-2f66-4203-a319-8cfe20736a99",
   "metadata": {},
   "outputs": [
    {
     "data": {
      "text/plain": [
       "(365,)"
      ]
     },
     "execution_count": 44,
     "metadata": {},
     "output_type": "execute_result"
    }
   ],
   "source": [
    "temperature_celsuis.shape"
   ]
  },
  {
   "cell_type": "code",
   "execution_count": 45,
   "id": "f20d7a5a-3dd0-4719-a987-d06dd18310a1",
   "metadata": {},
   "outputs": [
    {
     "data": {
      "text/plain": [
       "array([16.9737, 11.8939, 18.1815, 25.1842, 11.1268, 11.1269, 25.6337,\n",
       "       19.1395,  9.2442, 17.3405,  9.2927,  9.2742, 14.9357, -2.3062,\n",
       "       -0.7993])"
      ]
     },
     "execution_count": 45,
     "metadata": {},
     "output_type": "execute_result"
    }
   ],
   "source": [
    "temperature_celsuis[:15] # as we will see there are some values in negative temperature "
   ]
  },
  {
   "cell_type": "markdown",
   "id": "ee3893ea-73aa-4ee3-86d5-00ff129c475d",
   "metadata": {},
   "source": [
    "# 2. Clean the Data with `np.where`"
   ]
  },
  {
   "cell_type": "code",
   "execution_count": 46,
   "id": "3ef63dcd-a312-4ae4-9258-502253ecff4f",
   "metadata": {},
   "outputs": [],
   "source": [
    "#replacing the negative values with 0 and keeping the rest same\n",
    "temperature_celsuis = np.where(temperature_celsuis < 0, 0, temperature_celsuis)"
   ]
  },
  {
   "cell_type": "code",
   "execution_count": 47,
   "id": "93b38a06-9ec3-4081-b461-1d8982681a3e",
   "metadata": {},
   "outputs": [
    {
     "data": {
      "text/plain": [
       "array([16.9737, 11.8939, 18.1815, 25.1842, 11.1268, 11.1269, 25.6337,\n",
       "       19.1395,  9.2442, 17.3405,  9.2927,  9.2742, 14.9357,  0.    ,\n",
       "        0.    ])"
      ]
     },
     "execution_count": 47,
     "metadata": {},
     "output_type": "execute_result"
    }
   ],
   "source": [
    "temperature_celsuis[:15]"
   ]
  },
  {
   "cell_type": "markdown",
   "id": "0a5a3996-2722-431e-9e1d-3f253a4c8ef2",
   "metadata": {},
   "source": [
    "# 3. Convert to Fahrenheit (Unary ufuncs)"
   ]
  },
  {
   "cell_type": "code",
   "execution_count": 48,
   "id": "4dae8ea8-c4b5-4d83-94e2-4a59a0c9b686",
   "metadata": {},
   "outputs": [],
   "source": [
    "temperature_fahrenheit = temperature_celsuis * (9/5) + 32"
   ]
  },
  {
   "cell_type": "code",
   "execution_count": 49,
   "id": "8d691004-5dc3-4207-97b3-9c4c3b765958",
   "metadata": {},
   "outputs": [
    {
     "data": {
      "text/plain": [
       "array([62.5527, 53.409 , 64.7267, 77.3316, 52.0282, 52.0284, 78.1407,\n",
       "       66.4511, 48.6396, 63.2129, 48.7268, 48.6935, 58.8843, 32.    ,\n",
       "       32.    ])"
      ]
     },
     "execution_count": 49,
     "metadata": {},
     "output_type": "execute_result"
    }
   ],
   "source": [
    "temperature_fahrenheit[:15] "
   ]
  },
  {
   "cell_type": "markdown",
   "id": "3b61ca65-7ea5-4564-9870-1eabdbdf63c2",
   "metadata": {},
   "source": [
    "# 4. Calculate Heat Index (Binary ufuncs)"
   ]
  },
  {
   "cell_type": "code",
   "execution_count": 50,
   "id": "12746cf3-bb2a-43ad-8d04-d6a6d463e7e5",
   "metadata": {},
   "outputs": [],
   "source": [
    "np.random.seed(42)\n",
    "humidity = np.random.uniform(low = 0.4, high = 0.9, size = 365) #use shift + Tab for viewing what a particular method can do"
   ]
  },
  {
   "cell_type": "code",
   "execution_count": 51,
   "id": "f20e0bf6-aeca-4e60-ace6-8496a8a43cac",
   "metadata": {},
   "outputs": [],
   "source": [
    "heat_index = temperature_fahrenheit + (humidity * 10)"
   ]
  },
  {
   "cell_type": "code",
   "execution_count": null,
   "id": "5db1a4cd-961d-4eb2-adc1-60195280a379",
   "metadata": {},
   "outputs": [],
   "source": [
    "'''\n",
    "Even though the humidity is a positive number in our case but it can become negative due to some sensor glitches.\n",
    "That's why we have used the np.maximum() to choose the greater number between heat index and temperature\n",
    "So even if the humidity or heat index formula changes or the sensor glitches the heat_index will always be greater or \n",
    "equal to the temperature \n",
    "in this case it seems useless because we know that all the elements of the heat index are greater then the temperature \n",
    "by +(humidity * 10) \n",
    "\n",
    "'''\n",
    "heat_index = np.maximum(heat_index, temperature_fahrenheit)"
   ]
  },
  {
   "cell_type": "code",
   "execution_count": 53,
   "id": "baaf9c75-b3e6-41b3-affd-334e9622eec6",
   "metadata": {},
   "outputs": [
    {
     "data": {
      "text/plain": [
       "array([ 68.4254,  62.1626,  72.3867,  84.3249,  56.8083,  56.8084,\n",
       "        82.4311,  74.7819,  55.6451,  70.7532,  52.8297,  57.543 ,\n",
       "        67.0465,  37.0617,  36.9091,  52.2201,  46.3364,  66.5489,\n",
       "        48.4842,  40.519 ,  83.5646,  56.8463,  61.8331,  40.7154,\n",
       "        53.8412,  64.9232,  43.8241,  67.3812,  53.7129,  55.4319,\n",
       "        53.7731,  86.9254,  59.5309,  48.9134,  76.0728,  45.8618,\n",
       "        63.9307,  36.4884,  43.6953,  64.4356,  70.6441,  64.3436,\n",
       "        57.9066,  59.6107,  39.4032,  52.3469,  54.3254,  77.2229,\n",
       "        67.0817,  36.9243,  68.9147,  57.7305,  54.3498,  72.6823,\n",
       "        77.2359,  77.4198,  47.7577,  55.9273,  64.3963,  75.0745,\n",
       "        54.4433,  58.0833,  47.6125,  43.9584,  72.505 ,  81.6433,\n",
       "        59.0677,  77.8619,  64.9803,  55.0447,  68.4653,  82.5413,\n",
       "        58.9117,  86.0082,  39.5343,  74.8804,  64.5098,  55.4645,\n",
       "        62.5137,  36.5793,  60.5522,  67.6589,  82.3362,  52.2547,\n",
       "        49.3126,  53.8006,  76.2298,  67.3218,  56.2075,  69.1521,\n",
       "        61.3959,  76.9147,  53.0944,  57.4881,  57.6085,  40.7944,\n",
       "        66.2778,  65.2969,  59.6007,  56.5614,  39.1758,  56.5248,\n",
       "        56.0367,  50.3901,  61.6153,  66.4648,  88.613 ,  65.6917,\n",
       "        64.2527,  58.7129,  37.4488,  59.8243,  64.9158,  98.9113,\n",
       "        59.797 ,  68.0996,  62.9185,  43.5039,  80.3194,  72.9245,\n",
       "        74.8281,  50.7853,  81.1903,  39.7636,  68.9904,  93.0781,\n",
       "        49.2264,  55.549 ,  60.8697,  54.7037,  39.1575,  61.4978,\n",
       "        44.7022,  67.9078,  50.8748,  83.3351,  50.7151,  58.2774,\n",
       "        72.9328,  46.5345,  67.4877,  79.4818,  38.7385,  63.5631,\n",
       "        64.5665,  70.8427,  44.6357,  42.8988,  67.1734,  65.0698,\n",
       "        67.5484,  65.5867,  50.3321,  65.1917,  68.5485,  50.3236,\n",
       "        89.6278,  70.0313,  43.4334,  72.4955,  47.2035,  73.8955,\n",
       "        79.2514,  50.261 ,  73.7241,  69.5206,  72.8416,  87.6464,\n",
       "        56.0703,  51.5007,  49.9788,  47.7353,  60.8502,  65.4451,\n",
       "        66.6102,  72.1833,  63.0419,  82.2646,  60.2726,  99.258 ,\n",
       "        70.1149,  47.6243,  48.6026,  70.7343,  57.4718,  72.9815,\n",
       "        70.3007,  61.1273,  49.8544,  38.7955,  53.4357,  76.2182,\n",
       "        66.985 ,  44.6269,  63.589 ,  66.6946,  50.3022,  66.0992,\n",
       "        64.6736,  46.8406,  67.7623,  67.896 ,  75.8041,  79.0675,\n",
       "        42.5937,  45.9413,  67.3239,  70.116 ,  66.842 , 115.6834,\n",
       "        70.3645,  79.2116,  76.3974,  69.9014,  58.421 ,  71.5154,\n",
       "        49.8983,  59.7223,  55.6589,  64.8251,  96.0191,  38.8415,\n",
       "        69.7505,  38.0155,  53.9302,  76.3008,  65.1907,  45.846 ,\n",
       "        53.5599,  72.3419,  52.8568,  65.0302,  62.9408,  52.4795,\n",
       "        91.249 ,  72.1407,  37.4039,  62.2065,  53.0976,  72.5606,\n",
       "        52.69  ,  62.5174,  71.2461,  73.7177,  42.193 ,  59.2248,\n",
       "        54.7017,  54.8253,  89.6406,  69.4968,  42.7155,  74.5427,\n",
       "        94.2147,  75.8521,  38.3685,  55.211 ,  82.3243,  52.6897,\n",
       "        68.6413,  71.0406,  49.1272,  63.4931,  36.7004,  47.2405,\n",
       "        60.1499,  45.1358,  86.3918,  42.3184,  54.8608,  62.7506,\n",
       "        84.2011,  42.7742,  80.4849,  64.1136,  47.823 ,  68.5619,\n",
       "        66.2579,  54.0067,  63.915 ,  57.8304,  65.4847,  70.6247,\n",
       "        84.1166,  42.0454,  93.0071,  36.1797,  59.5423,  70.585 ,\n",
       "        64.879 ,  53.3873,  56.5555,  52.4875,  55.0262,  73.4352,\n",
       "        65.1763,  52.0333,  76.2042,  64.9042,  74.2197,  68.8934,\n",
       "        47.7209,  53.9902,  72.8642,  71.3765,  62.7295,  65.9688,\n",
       "        80.3799,  52.4962,  71.2541,  57.8426,  58.4602,  75.6147,\n",
       "        71.4127,  75.9278,  82.3788,  63.1823,  71.2649,  55.7986,\n",
       "        64.8502,  58.7772,  63.5429,  71.5432,  50.9186,  90.93  ,\n",
       "        49.6877,  45.6052,  78.8486,  73.8585,  70.4853,  69.6868,\n",
       "        61.0035,  50.2688,  60.5636,  50.2292,  73.6717,  57.486 ,\n",
       "        51.7901,  58.2903,  67.7171,  51.7715,  50.0181,  65.2765,\n",
       "        63.7935,  54.2693,  54.6096,  65.8208,  41.7231,  39.359 ,\n",
       "        50.9275,  59.4557,  66.3928,  84.9276,  75.0438,  57.9116,\n",
       "        59.479 ,  48.1757,  59.266 ,  58.1722,  68.7483,  50.3652,\n",
       "        68.8194,  84.6879,  60.1251,  67.9127,  74.0454])"
      ]
     },
     "execution_count": 53,
     "metadata": {},
     "output_type": "execute_result"
    }
   ],
   "source": [
    "heat_index"
   ]
  },
  {
   "cell_type": "code",
   "execution_count": null,
   "id": "fbba05a7-6927-44c2-8779-689a02c5829c",
   "metadata": {},
   "outputs": [],
   "source": []
  },
  {
   "cell_type": "code",
   "execution_count": null,
   "id": "bc48b0b4-588c-4eb6-bea3-64e55448fe59",
   "metadata": {},
   "outputs": [],
   "source": []
  },
  {
   "cell_type": "code",
   "execution_count": null,
   "id": "a2667060-58fb-4b7f-b761-e3bb2ebcdbf0",
   "metadata": {},
   "outputs": [],
   "source": []
  },
  {
   "cell_type": "code",
   "execution_count": null,
   "id": "5b449522-9ed1-4014-a376-803202ee178f",
   "metadata": {},
   "outputs": [],
   "source": []
  },
  {
   "cell_type": "code",
   "execution_count": null,
   "id": "71455298-278d-4e08-90a7-07d613ee9863",
   "metadata": {},
   "outputs": [],
   "source": []
  },
  {
   "cell_type": "code",
   "execution_count": null,
   "id": "86bd842f-1876-455e-a8bb-405e070ffa98",
   "metadata": {},
   "outputs": [],
   "source": []
  },
  {
   "cell_type": "code",
   "execution_count": null,
   "id": "25b2896b-8809-4c4b-951e-3f3df15eb49d",
   "metadata": {},
   "outputs": [],
   "source": []
  },
  {
   "cell_type": "code",
   "execution_count": null,
   "id": "e92ba5f9-23d3-40ec-91b3-7d4d320bbbd8",
   "metadata": {},
   "outputs": [],
   "source": []
  },
  {
   "cell_type": "code",
   "execution_count": null,
   "id": "945b139c-bab7-48b2-aa8d-ff239a693e58",
   "metadata": {},
   "outputs": [],
   "source": []
  },
  {
   "cell_type": "code",
   "execution_count": null,
   "id": "fb8ac1af-ecac-447d-bb5d-ca806a4d4db7",
   "metadata": {},
   "outputs": [],
   "source": []
  },
  {
   "cell_type": "code",
   "execution_count": null,
   "id": "776cc9c1-8375-4407-904b-e788b908a42d",
   "metadata": {},
   "outputs": [],
   "source": []
  },
  {
   "cell_type": "code",
   "execution_count": null,
   "id": "9f768b08-fbd7-4f9d-91d7-b8a21ff4f6a0",
   "metadata": {},
   "outputs": [],
   "source": []
  },
  {
   "cell_type": "code",
   "execution_count": null,
   "id": "6a486b5d-7009-4dee-ba68-f07dcd315a2e",
   "metadata": {},
   "outputs": [],
   "source": []
  },
  {
   "cell_type": "code",
   "execution_count": null,
   "id": "d403b47d-46f3-48fe-9549-be2a492153b9",
   "metadata": {},
   "outputs": [],
   "source": []
  }
 ],
 "metadata": {
  "kernelspec": {
   "display_name": "Python 3 (ipykernel)",
   "language": "python",
   "name": "python3"
  },
  "language_info": {
   "codemirror_mode": {
    "name": "ipython",
    "version": 3
   },
   "file_extension": ".py",
   "mimetype": "text/x-python",
   "name": "python",
   "nbconvert_exporter": "python",
   "pygments_lexer": "ipython3",
   "version": "3.12.7"
  }
 },
 "nbformat": 4,
 "nbformat_minor": 5
}

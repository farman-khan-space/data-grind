{
 "cells": [
  {
   "cell_type": "code",
   "execution_count": 56,
   "id": "8475e86c-82b4-4721-824c-0f58973ea1a4",
   "metadata": {},
   "outputs": [],
   "source": [
    "import numpy as np\n",
    "np.set_printoptions(suppress= True, precision= 4)"
   ]
  },
  {
   "cell_type": "markdown",
   "id": "33398184-ec14-45d4-887a-3e5576e2b2f4",
   "metadata": {},
   "source": [
    "# Data generation for the project"
   ]
  },
  {
   "cell_type": "code",
   "execution_count": 57,
   "id": "048311e7-09f5-4d4d-8410-03d36a226bb6",
   "metadata": {},
   "outputs": [],
   "source": [
    "rng = np.random.default_rng(seed = 50)"
   ]
  },
  {
   "cell_type": "code",
   "execution_count": 58,
   "id": "7b27a47a-4aad-41d1-929a-29bfff87116d",
   "metadata": {},
   "outputs": [],
   "source": [
    "transaction_ids = np.arange(1000,1100)"
   ]
  },
  {
   "cell_type": "code",
   "execution_count": 59,
   "id": "34c4a12c-63b4-42b2-bfdc-b1ea1425a82b",
   "metadata": {},
   "outputs": [
    {
     "data": {
      "text/plain": [
       "(100,)"
      ]
     },
     "execution_count": 59,
     "metadata": {},
     "output_type": "execute_result"
    }
   ],
   "source": [
    "transaction_ids.shape"
   ]
  },
  {
   "cell_type": "code",
   "execution_count": 60,
   "id": "e98e8ab4-d469-4e9a-9d3f-d9e830652d5f",
   "metadata": {},
   "outputs": [],
   "source": [
    "prices = np.round(rng.uniform(low = 20.0, high = 50.0, size = 100),2)"
   ]
  },
  {
   "cell_type": "code",
   "execution_count": 61,
   "id": "126a7be8-e8cc-48f8-8c29-cce8f85a76b6",
   "metadata": {},
   "outputs": [
    {
     "data": {
      "text/plain": [
       "array([43.62, 45.01, 36.44, 49.2 , 27.11])"
      ]
     },
     "execution_count": 61,
     "metadata": {},
     "output_type": "execute_result"
    }
   ],
   "source": [
    "prices[:5]"
   ]
  },
  {
   "cell_type": "code",
   "execution_count": 62,
   "id": "1dcd51fe-7430-4673-aa72-6c2abdf230fd",
   "metadata": {},
   "outputs": [],
   "source": [
    "np.random.seed(50)\n",
    "quantities = rng.integers(low = 1, high = 6, size = 100)\n"
   ]
  },
  {
   "cell_type": "code",
   "execution_count": 63,
   "id": "da9ce9c8-e2fd-4501-b27b-37feb43f80f0",
   "metadata": {},
   "outputs": [
    {
     "data": {
      "text/plain": [
       "array([4, 5, 1, 2, 4, 5, 1, 1, 3, 2, 5, 5, 3, 4, 5, 1, 1, 1, 4, 3, 4, 5,\n",
       "       2, 3, 5, 4, 5, 1, 1, 2, 3, 4, 2, 1, 5, 1, 5, 1, 3, 4, 4, 5, 4, 4,\n",
       "       1, 1, 2, 4, 1, 3, 1, 1, 5, 2, 1, 1, 2, 2, 1, 2, 4, 2, 5, 1, 5, 2,\n",
       "       2, 2, 2, 1, 1, 1, 5, 4, 4, 3, 3, 3, 5, 1, 3, 2, 1, 1, 5, 1, 5, 2,\n",
       "       4, 2, 5, 3, 2, 5, 1, 1, 2, 1, 1, 3], dtype=int64)"
      ]
     },
     "execution_count": 63,
     "metadata": {},
     "output_type": "execute_result"
    }
   ],
   "source": [
    "quantities"
   ]
  },
  {
   "cell_type": "code",
   "execution_count": 64,
   "id": "a76de3d2-5ccb-42f6-9f13-77d098178bea",
   "metadata": {},
   "outputs": [],
   "source": [
    "customer_segments =  rng.choice(['NEW', 'LOYAL', 'VIP'],size = 100, p = [0.4,0.4,0.2])"
   ]
  },
  {
   "cell_type": "code",
   "execution_count": 65,
   "id": "9c8ef680-fe46-4e2d-81f8-e3b9d697977c",
   "metadata": {},
   "outputs": [
    {
     "data": {
      "text/plain": [
       "array(['NEW', 'LOYAL', 'LOYAL', 'NEW', 'LOYAL'], dtype='<U5')"
      ]
     },
     "execution_count": 65,
     "metadata": {},
     "output_type": "execute_result"
    }
   ],
   "source": [
    "customer_segments[:5]"
   ]
  },
  {
   "cell_type": "code",
   "execution_count": 66,
   "id": "0a3b55b7-7b85-482a-9e16-65b95131f40f",
   "metadata": {},
   "outputs": [],
   "source": [
    "is_discounted = rng.choice([True, False], size = 100, p = [0.3, 0.7])"
   ]
  },
  {
   "cell_type": "code",
   "execution_count": 67,
   "id": "b66bfc71-18c2-4513-b791-f03db3742a62",
   "metadata": {},
   "outputs": [
    {
     "data": {
      "text/plain": [
       "array([ True, False,  True, False, False])"
      ]
     },
     "execution_count": 67,
     "metadata": {},
     "output_type": "execute_result"
    }
   ],
   "source": [
    "is_discounted[:5]"
   ]
  },
  {
   "cell_type": "markdown",
   "id": "deca5c3b-825f-43d5-9c9c-68c925780fad",
   "metadata": {},
   "source": [
    "# Task 1: Calculate Transaction Revenue"
   ]
  },
  {
   "cell_type": "markdown",
   "id": "e11aac1b-8242-4a86-b3e5-06e59795c02d",
   "metadata": {},
   "source": [
    "Using a single vectorized operation, calculate the total revenue for each transaction. This should be the price multiplied by the quantity. Store the result in a new array called `revenues`."
   ]
  },
  {
   "cell_type": "code",
   "execution_count": 68,
   "id": "e6bbbd4f-6fa3-4aeb-9740-4e84d9e2c47f",
   "metadata": {},
   "outputs": [],
   "source": [
    "#revenue = qunatities * prices\n",
    "revenues = prices * quantities"
   ]
  },
  {
   "cell_type": "code",
   "execution_count": 69,
   "id": "47a2a979-d9a0-442f-9a2c-32fd667d3521",
   "metadata": {},
   "outputs": [
    {
     "data": {
      "text/plain": [
       "array([174.48, 225.05,  36.44,  98.4 , 108.44])"
      ]
     },
     "execution_count": 69,
     "metadata": {},
     "output_type": "execute_result"
    }
   ],
   "source": [
    "revenues[:5]"
   ]
  },
  {
   "cell_type": "code",
   "execution_count": 70,
   "id": "d6f6f1d0-f240-417a-b7db-d9415f4849da",
   "metadata": {},
   "outputs": [
    {
     "data": {
      "text/plain": [
       "(100,)"
      ]
     },
     "execution_count": 70,
     "metadata": {},
     "output_type": "execute_result"
    }
   ],
   "source": [
    "revenues.shape"
   ]
  },
  {
   "cell_type": "markdown",
   "id": "80cdf0bc-8248-46a7-b161-d227771ce729",
   "metadata": {},
   "source": [
    "# Task 2: Basic Statistical Analysis"
   ]
  },
  {
   "cell_type": "markdown",
   "id": "bcb21d81-9bbf-4b59-9b44-79bca7ff73a2",
   "metadata": {},
   "source": [
    "Now that you have the `revenues` array, calculate and print the average (mean) transaction value and the total revenue across all transactions."
   ]
  },
  {
   "cell_type": "code",
   "execution_count": 71,
   "id": "e1261b75-6ba8-4566-864d-cff71ad62836",
   "metadata": {},
   "outputs": [],
   "source": [
    "total_revenue = np.sum(revenues)"
   ]
  },
  {
   "cell_type": "code",
   "execution_count": 72,
   "id": "8bc95bf8-2011-49d1-a192-2e4b03f44330",
   "metadata": {},
   "outputs": [
    {
     "data": {
      "text/plain": [
       "9239.83"
      ]
     },
     "execution_count": 72,
     "metadata": {},
     "output_type": "execute_result"
    }
   ],
   "source": [
    "total_revenue"
   ]
  },
  {
   "cell_type": "code",
   "execution_count": 73,
   "id": "325a7f1e-b279-4a47-86d2-b0e59cc8502a",
   "metadata": {},
   "outputs": [],
   "source": [
    "average_revenue = np.mean(revenues)"
   ]
  },
  {
   "cell_type": "code",
   "execution_count": 74,
   "id": "450ded97-8818-409f-b17e-f5df145cf0bb",
   "metadata": {},
   "outputs": [
    {
     "data": {
      "text/plain": [
       "92.3983"
      ]
     },
     "execution_count": 74,
     "metadata": {},
     "output_type": "execute_result"
    }
   ],
   "source": [
    "average_revenue"
   ]
  },
  {
   "cell_type": "markdown",
   "id": "c471c1ee-2a4f-4f87-b775-7faacab2991f",
   "metadata": {},
   "source": [
    "# Task 3: Conditional Logic with `np.where`\n"
   ]
  },
  {
   "cell_type": "markdown",
   "id": "11fd7e53-5f9b-420c-afcb-c7702385c5ac",
   "metadata": {},
   "source": [
    "StyleSphere wants to apply a 5% processing fee to all transactions that were not discounted. Use `np.where` to create a new array `final_revenues` which is equal to the original `revenues` for discounted items, but is `revenues * 1.05` for non-discounted items.\n",
    "\n"
   ]
  },
  {
   "cell_type": "code",
   "execution_count": 75,
   "id": "4bf5ffad-4d54-4c4a-847d-5cb4497fc256",
   "metadata": {},
   "outputs": [],
   "source": [
    "final_revenues = np.where(is_discounted == True, (revenues * 1.05), revenues)"
   ]
  },
  {
   "cell_type": "code",
   "execution_count": 76,
   "id": "6dc122af-822f-4ae4-b0ea-26ba04c66068",
   "metadata": {},
   "outputs": [
    {
     "data": {
      "text/plain": [
       "array([183.204, 225.05 ,  38.262,  98.4  , 108.44 ])"
      ]
     },
     "execution_count": 76,
     "metadata": {},
     "output_type": "execute_result"
    }
   ],
   "source": [
    "final_revenues[:5]"
   ]
  },
  {
   "cell_type": "markdown",
   "id": "3fd52e28-6197-4af9-b3fa-4fa37d3853a1",
   "metadata": {},
   "source": [
    "# Task 4: Methods for Boolean Arrays"
   ]
  },
  {
   "cell_type": "markdown",
   "id": "2c9e99b0-ae02-4e47-9591-c39f2bca04cf",
   "metadata": {},
   "source": [
    "The marketing team wants to know how many transactions were made by 'VIP' customers. Create a boolean array to identify these transactions and then use an array method to count them."
   ]
  },
  {
   "cell_type": "code",
   "execution_count": 77,
   "id": "93422f65-2533-4fd3-beb5-3fc08143309d",
   "metadata": {},
   "outputs": [],
   "source": [
    "vip_mask = customer_segments == 'VIP'"
   ]
  },
  {
   "cell_type": "code",
   "execution_count": 78,
   "id": "68c34fb6-7151-4243-b439-75c63bfda50c",
   "metadata": {},
   "outputs": [
    {
     "data": {
      "text/plain": [
       "array([False, False, False, False, False, False, False,  True,  True,\n",
       "       False])"
      ]
     },
     "execution_count": 78,
     "metadata": {},
     "output_type": "execute_result"
    }
   ],
   "source": [
    "vip_mask[:10]"
   ]
  },
  {
   "cell_type": "code",
   "execution_count": 79,
   "id": "d56b76d5-d17e-4952-b171-d7855e7d8bf8",
   "metadata": {},
   "outputs": [],
   "source": [
    "vip_transactions = transaction_ids[vip_mask]"
   ]
  },
  {
   "cell_type": "code",
   "execution_count": 80,
   "id": "bfaed7c5-53c6-471b-822c-2cb84d7ec1c6",
   "metadata": {},
   "outputs": [],
   "source": [
    "vip_count = vip_mask.sum() #this counts the TRUE instances in the vip_mask array"
   ]
  },
  {
   "cell_type": "code",
   "execution_count": 81,
   "id": "ad0b7012-df23-4ecb-b466-200f3816e0c6",
   "metadata": {},
   "outputs": [
    {
     "data": {
      "text/plain": [
       "24"
      ]
     },
     "execution_count": 81,
     "metadata": {},
     "output_type": "execute_result"
    }
   ],
   "source": [
    "vip_count"
   ]
  },
  {
   "cell_type": "markdown",
   "id": "2063b3f5-afe6-4aa2-9cac-3950339194f6",
   "metadata": {},
   "source": [
    "# Task 5: Sorting to Find Top Transactions"
   ]
  },
  {
   "cell_type": "markdown",
   "id": "55b6a289-7c59-4d78-8847-90230701a7a7",
   "metadata": {},
   "source": [
    "Identify the top 5 highest-value transactions from the `revenues` array. You'll need an indirect sort to get the indices of the highest values, and then use those indices to show the revenues"
   ]
  },
  {
   "cell_type": "code",
   "execution_count": 82,
   "id": "c0bedb72-fe31-43cf-aaa7-bb7c923bff11",
   "metadata": {},
   "outputs": [],
   "source": [
    "sorted_revenues = np.sort(revenues)"
   ]
  },
  {
   "cell_type": "code",
   "execution_count": 83,
   "id": "a6f48dbb-0d52-45f3-a499-9907ec88d773",
   "metadata": {},
   "outputs": [],
   "source": [
    "top_5_revenues = sorted_revenues[-5:][::-1] #the second pair of brackets and it's code reverse the order"
   ]
  },
  {
   "cell_type": "code",
   "execution_count": 84,
   "id": "2dce129c-35a8-4dd5-85f3-f0920c2d9edc",
   "metadata": {},
   "outputs": [
    {
     "data": {
      "text/plain": [
       "array([248.  , 229.4 , 225.05, 202.55, 197.05])"
      ]
     },
     "execution_count": 84,
     "metadata": {},
     "output_type": "execute_result"
    }
   ],
   "source": [
    "top_5_revenues"
   ]
  },
  {
   "cell_type": "markdown",
   "id": "20601662-0b7e-4236-a260-410ddbb48e42",
   "metadata": {},
   "source": [
    "# Task 6: Set Logic for Unique Segments"
   ]
  },
  {
   "cell_type": "markdown",
   "id": "3035a858-02aa-43b3-b44c-f67887b2eab9",
   "metadata": {},
   "source": [
    "To understand our customer base, find all the unique customer segments that exist in the `customer_segments` array."
   ]
  },
  {
   "cell_type": "code",
   "execution_count": 85,
   "id": "f004b1c2-2da5-4bd5-847f-a32070eaf97b",
   "metadata": {},
   "outputs": [],
   "source": [
    "unique_customers = np.unique(customer_segments)"
   ]
  },
  {
   "cell_type": "code",
   "execution_count": 86,
   "id": "14fcbb33-0e1f-4fb1-9622-13d0c86d363b",
   "metadata": {},
   "outputs": [
    {
     "data": {
      "text/plain": [
       "array(['LOYAL', 'NEW', 'VIP'], dtype='<U5')"
      ]
     },
     "execution_count": 86,
     "metadata": {},
     "output_type": "execute_result"
    }
   ],
   "source": [
    "unique_customers"
   ]
  },
  {
   "cell_type": "markdown",
   "id": "3eb3d201-63f3-4576-9049-1e4771f37ff4",
   "metadata": {},
   "source": [
    "# **High-Value Customer Analysis**"
   ]
  },
  {
   "cell_type": "markdown",
   "id": "1bbfba56-92c2-41b9-b0a0-3d3493a14ac8",
   "metadata": {},
   "source": [
    "The leadership team wants a report on the **total revenue generated from high-value customers ('Loyal' or 'VIP') on full-price (non-discounted) items**. This requires combining conditional logic, boolean array operations, and statistical methods. Write the code to calculate and print this final value."
   ]
  },
  {
   "cell_type": "code",
   "execution_count": 87,
   "id": "87d446b1-e2d1-4031-8f2a-9b1bca5e2b9d",
   "metadata": {},
   "outputs": [],
   "source": [
    "customer_mask = customer_segments != 'NEW' \n",
    "discount_mask =  is_discounted == True"
   ]
  },
  {
   "cell_type": "code",
   "execution_count": 88,
   "id": "4e7bcc97-85d5-49f8-a53b-4beec89ef1a5",
   "metadata": {},
   "outputs": [],
   "source": [
    "revenue_mask = customer_mask & discount_mask"
   ]
  },
  {
   "cell_type": "code",
   "execution_count": 89,
   "id": "d0d666fb-a436-46d0-82e3-4ec0a57798db",
   "metadata": {},
   "outputs": [],
   "source": [
    "high_value_revenue = revenues[revenue_mask]"
   ]
  },
  {
   "cell_type": "code",
   "execution_count": 90,
   "id": "51714990-81e0-4e9e-bfdd-247a08771f72",
   "metadata": {},
   "outputs": [
    {
     "data": {
      "text/plain": [
       "array([ 36.44,  36.67, 248.  ,  49.54,  65.52, 135.35,  41.2 , 187.32,\n",
       "        80.44,  99.57,  55.28,  53.6 ,  92.24,  70.26,  46.07,  61.8 ,\n",
       "       118.02, 114.35,  91.22, 109.55,  99.08])"
      ]
     },
     "execution_count": 90,
     "metadata": {},
     "output_type": "execute_result"
    }
   ],
   "source": [
    "high_value_revenue"
   ]
  },
  {
   "cell_type": "code",
   "execution_count": 91,
   "id": "9998befc-d504-424e-8c15-5e5afaab656c",
   "metadata": {},
   "outputs": [],
   "source": [
    "total_high_value_revenue = np.sum(high_value_revenue)"
   ]
  },
  {
   "cell_type": "code",
   "execution_count": 93,
   "id": "6149521c-7c48-465c-b22d-f1d30f6cc44e",
   "metadata": {},
   "outputs": [
    {
     "name": "stdout",
     "output_type": "stream",
     "text": [
      "1891.5199999999998\n"
     ]
    }
   ],
   "source": [
    "print(total_high_value_revenue)"
   ]
  },
  {
   "cell_type": "code",
   "execution_count": null,
   "id": "44bf3987-6d56-4f50-9c69-cabed7310e69",
   "metadata": {},
   "outputs": [],
   "source": []
  },
  {
   "cell_type": "code",
   "execution_count": null,
   "id": "479a6d50-e01c-40f8-9ca0-74bc71e3de97",
   "metadata": {},
   "outputs": [],
   "source": []
  },
  {
   "cell_type": "code",
   "execution_count": null,
   "id": "f3e6e648-d2ab-4d9a-9b4c-f08d748eecc7",
   "metadata": {},
   "outputs": [],
   "source": []
  },
  {
   "cell_type": "code",
   "execution_count": null,
   "id": "1d77bfd2-571f-4bf7-a11a-92aeecbcd0db",
   "metadata": {},
   "outputs": [],
   "source": []
  },
  {
   "cell_type": "code",
   "execution_count": null,
   "id": "04704f43-8ffb-4492-9f5b-04320816e171",
   "metadata": {},
   "outputs": [],
   "source": []
  },
  {
   "cell_type": "code",
   "execution_count": null,
   "id": "f63ce525-d524-4b3e-bfa2-f30e01ce33ef",
   "metadata": {},
   "outputs": [],
   "source": []
  },
  {
   "cell_type": "code",
   "execution_count": null,
   "id": "56bc7930-2d59-4262-87d4-94ffb8c261a3",
   "metadata": {},
   "outputs": [],
   "source": []
  },
  {
   "cell_type": "code",
   "execution_count": null,
   "id": "395cad18-c633-4bbe-95be-490d334ffb5e",
   "metadata": {},
   "outputs": [],
   "source": []
  },
  {
   "cell_type": "code",
   "execution_count": null,
   "id": "270967f5-59f7-4055-be40-43af54cb5028",
   "metadata": {},
   "outputs": [],
   "source": []
  },
  {
   "cell_type": "code",
   "execution_count": null,
   "id": "90768ce2-5af9-4742-9565-ff4368a182e8",
   "metadata": {},
   "outputs": [],
   "source": []
  },
  {
   "cell_type": "code",
   "execution_count": null,
   "id": "03777d87-c0f7-48ba-8684-763fdede7cc1",
   "metadata": {},
   "outputs": [],
   "source": []
  },
  {
   "cell_type": "code",
   "execution_count": null,
   "id": "b56c7fd1-cab4-4f3d-b078-dafb8fccab81",
   "metadata": {},
   "outputs": [],
   "source": []
  },
  {
   "cell_type": "code",
   "execution_count": null,
   "id": "f39ea531-d00c-4d05-860c-d017ac3b8264",
   "metadata": {},
   "outputs": [],
   "source": []
  },
  {
   "cell_type": "code",
   "execution_count": null,
   "id": "593da7bc-b6df-4ff7-9ae3-26805a31f5e7",
   "metadata": {},
   "outputs": [],
   "source": []
  },
  {
   "cell_type": "code",
   "execution_count": null,
   "id": "480b79a0-47fd-4997-a05d-7891365196d7",
   "metadata": {},
   "outputs": [],
   "source": []
  },
  {
   "cell_type": "code",
   "execution_count": null,
   "id": "8b16f57b-2dc5-47c6-b175-4c0a4dfd37d8",
   "metadata": {},
   "outputs": [],
   "source": []
  },
  {
   "cell_type": "code",
   "execution_count": null,
   "id": "e2b97587-9f43-4db9-a2b3-4f9a81131e43",
   "metadata": {},
   "outputs": [],
   "source": []
  },
  {
   "cell_type": "code",
   "execution_count": null,
   "id": "96cfb3f1-e936-443d-86e0-5ab638dc5706",
   "metadata": {},
   "outputs": [],
   "source": []
  },
  {
   "cell_type": "code",
   "execution_count": null,
   "id": "c087e921-8c1d-4ab9-8501-3308edfd2212",
   "metadata": {},
   "outputs": [],
   "source": []
  },
  {
   "cell_type": "code",
   "execution_count": null,
   "id": "364ad0cc-8233-43a0-9911-67e271e3806a",
   "metadata": {},
   "outputs": [],
   "source": []
  }
 ],
 "metadata": {
  "kernelspec": {
   "display_name": "Python 3 (ipykernel)",
   "language": "python",
   "name": "python3"
  },
  "language_info": {
   "codemirror_mode": {
    "name": "ipython",
    "version": 3
   },
   "file_extension": ".py",
   "mimetype": "text/x-python",
   "name": "python",
   "nbconvert_exporter": "python",
   "pygments_lexer": "ipython3",
   "version": "3.12.7"
  }
 },
 "nbformat": 4,
 "nbformat_minor": 5
}

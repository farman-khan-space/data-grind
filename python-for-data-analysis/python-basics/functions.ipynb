{
 "cells": [
  {
   "cell_type": "markdown",
   "id": "63ec0ee3-67cb-453b-b13d-dafec192fdb1",
   "metadata": {},
   "source": [
    "# <center>**Functions** <center>\n",
    "\n",
    "\n"
   ]
  },
  {
   "cell_type": "markdown",
   "id": "54b1fe34-cb3c-4ae0-b8ca-264ec956358b",
   "metadata": {},
   "source": [
    "## 1. def"
   ]
  },
  {
   "cell_type": "markdown",
   "id": "bd0b7338-9b3c-4544-bf50-9998b26cd097",
   "metadata": {},
   "source": [
    "**Newbie Level**\n",
    "\n",
    "Write a function named `calculate_area` that takes a length and a width as arguments and returns the area of a rectangle. Call the function with `5` and `10` and print the result."
   ]
  },
  {
   "cell_type": "code",
   "execution_count": 1,
   "id": "eb47a45d-9bcc-443a-a2d6-64602552d58a",
   "metadata": {},
   "outputs": [],
   "source": [
    "def calculate_area(length,width):\n",
    "    return length * width\n",
    "    "
   ]
  },
  {
   "cell_type": "code",
   "execution_count": 2,
   "id": "9878acd5-d157-4899-b06b-9efffb844d77",
   "metadata": {},
   "outputs": [
    {
     "data": {
      "text/plain": [
       "50"
      ]
     },
     "execution_count": 2,
     "metadata": {},
     "output_type": "execute_result"
    }
   ],
   "source": [
    "calculate_area(5,10)"
   ]
  },
  {
   "cell_type": "markdown",
   "id": "6abef8ea-c2d7-4ad3-8cab-40d87a57fd1b",
   "metadata": {},
   "source": [
    "**Mid Level**\n",
    "\n",
    "Write a function `greetings` that takes a name and an optional argument `language` with a default value of `'English'`. The function should return a greeting string like `\"Hello, [Name]!\"` or `\"Hola, [Name]!\"` based on the language. Call the function once without the language and once with `language='Spanish'`.\n",
    "\n",
    "Show Solution"
   ]
  },
  {
   "cell_type": "code",
   "execution_count": 3,
   "id": "25d0729b-e7ed-476a-8398-36a603cf3631",
   "metadata": {},
   "outputs": [],
   "source": [
    "def greetings(name,language= 'English'):\n",
    "    if language == 'English':\n",
    "        return (f'Hello {name}!')\n",
    "    elif language == 'Spanish':\n",
    "        return f'Hola {name}!'\n",
    "    else: \n",
    "        return f'Hello {name}!I don\\'t know the language!!!'\n"
   ]
  },
  {
   "cell_type": "code",
   "execution_count": 4,
   "id": "db65e8a9-346d-4e3a-871b-9bec47d47d41",
   "metadata": {},
   "outputs": [
    {
     "data": {
      "text/plain": [
       "\"Hello Farman!I don't know the language!!!\""
      ]
     },
     "execution_count": 4,
     "metadata": {},
     "output_type": "execute_result"
    }
   ],
   "source": [
    "greetings('Farman', language = 'Urdu')"
   ]
  },
  {
   "cell_type": "markdown",
   "id": "017ba9bc-f28a-495f-806c-2e295903cc40",
   "metadata": {},
   "source": [
    "**Pro Level**\n",
    "\n",
    "Imagine you have a series of messy text data. Write a function `clean_text_data` that takes a string, removes punctuation like `!`, `#`, and `?`, and converts the string to title case. This function will be a reusable \"tool\" for later data cleaning tasks."
   ]
  },
  {
   "cell_type": "code",
   "execution_count": 5,
   "id": "523bac30-7231-42d8-8188-b95232586e6a",
   "metadata": {},
   "outputs": [],
   "source": [
    "import re\n",
    "def clean_text_data(data):\n",
    "     data = data.strip()\n",
    "     data = re.sub(r'[!$%,?]','', data)\n",
    "     data = data.title()              \n",
    "     return data\n"
   ]
  },
  {
   "cell_type": "code",
   "execution_count": 6,
   "id": "a7712971-e0da-4bfc-a7fa-bd9f0a828a9e",
   "metadata": {},
   "outputs": [
    {
     "data": {
      "text/plain": [
       "'Farman'"
      ]
     },
     "execution_count": 6,
     "metadata": {},
     "output_type": "execute_result"
    }
   ],
   "source": [
    "clean_text_data('  FaRman!!  ')"
   ]
  },
  {
   "cell_type": "markdown",
   "id": "27a4c803-764f-4ca3-ae0d-1bd411736626",
   "metadata": {},
   "source": [
    "## 2.Scope and Namespaces"
   ]
  },
  {
   "cell_type": "markdown",
   "id": "c7e398b6-2d94-4cf8-8697-875d16e96827",
   "metadata": {},
   "source": [
    "**Newbie Level**\n",
    "\n",
    "Write a function `my_workshop` that creates a local variable `hammer = \"local hammer\"`. After the function call, try to print the value of `hammer` outside of the function. What happens and why?"
   ]
  },
  {
   "cell_type": "code",
   "execution_count": 7,
   "id": "dc7c796f-3693-45a8-b1be-86a1f7f56454",
   "metadata": {},
   "outputs": [
    {
     "ename": "NameError",
     "evalue": "name 'hammer' is not defined",
     "output_type": "error",
     "traceback": [
      "\u001b[1;31m---------------------------------------------------------------------------\u001b[0m",
      "\u001b[1;31mNameError\u001b[0m                                 Traceback (most recent call last)",
      "Cell \u001b[1;32mIn[7], line 4\u001b[0m\n\u001b[0;32m      1\u001b[0m \u001b[38;5;28;01mdef\u001b[39;00m \u001b[38;5;21mmy_workshop\u001b[39m():\n\u001b[0;32m      2\u001b[0m     hammer \u001b[38;5;241m=\u001b[39m \u001b[38;5;124m'\u001b[39m\u001b[38;5;124mlocal hammer\u001b[39m\u001b[38;5;124m'\u001b[39m \n\u001b[1;32m----> 4\u001b[0m \u001b[38;5;28mprint\u001b[39m(hammer)\n",
      "\u001b[1;31mNameError\u001b[0m: name 'hammer' is not defined"
     ]
    }
   ],
   "source": [
    "def my_workshop():\n",
    "    hammer = 'local hammer' \n",
    "\n",
    "print(hammer)\n",
    "\n",
    "#if we get an error then the code is successful"
   ]
  },
  {
   "cell_type": "markdown",
   "id": "4f00bc85-9bc7-472d-bbb3-c1d528b314e3",
   "metadata": {},
   "source": [
    "**Mid Level**\n",
    "\n",
    "Create a global variable `counter = 0`. Write a function `increment_counter` that attempts to add `1` to `counter`. Use the `global` keyword to correctly modify the `counter` variable. Call the function twice and print the final value."
   ]
  },
  {
   "cell_type": "code",
   "execution_count": 8,
   "id": "46e1ff7e-8520-4304-a912-ba6b8807b305",
   "metadata": {},
   "outputs": [
    {
     "name": "stdout",
     "output_type": "stream",
     "text": [
      "intial count = 100\n",
      "Inside  counter = 101\n",
      "Inside  counter = 102\n",
      "final counter = 102\n"
     ]
    }
   ],
   "source": [
    "counter = 100\n",
    "def increment_counter():\n",
    "    global counter\n",
    "    counter += 1\n",
    "    print(f'Inside  counter = {counter}')\n",
    "\n",
    "print(f'intial count = {counter}')\n",
    "increment_counter()\n",
    "increment_counter()\n",
    "print(f'final counter = {counter}')"
   ]
  },
  {
   "cell_type": "markdown",
   "id": "cb220d32-6e6e-4da0-8ad6-fa2ed9e6b24f",
   "metadata": {},
   "source": [
    "**Pro Level**\n",
    "\n",
    "Consider a function `outer_function` that defines a variable `x = 5`. Inside, it defines and calls a nested function `inner_function`. `inner_function` should reassign the value of `x` to `10`. Using the `nonlocal` keyword, modify `x` in the nested function and print the value of `x` inside the outer function after the nested function is called."
   ]
  },
  {
   "cell_type": "code",
   "execution_count": 9,
   "id": "f1f1cf33-0dca-4227-b7cd-76bbb06c40bb",
   "metadata": {},
   "outputs": [
    {
     "name": "stdout",
     "output_type": "stream",
     "text": [
      "outer_function before non local: 5\n",
      "inner function: 15\n",
      "outer function after non local: 15\n"
     ]
    }
   ],
   "source": [
    "def outer_function():\n",
    "    x = 5\n",
    "    print(f'outer_function before non local: {x}')\n",
    "    def inner_function():\n",
    "        nonlocal x\n",
    "        x = x+10\n",
    "        print(f'inner function: {x}')\n",
    "    inner_function()\n",
    "    print(f'outer function after non local: {x}')\n",
    "\n",
    "outer_function()\n"
   ]
  },
  {
   "cell_type": "markdown",
   "id": "4d4bc0db-da6e-47fa-be49-a8036947b135",
   "metadata": {},
   "source": [
    "## 3. Returning Multiple Values"
   ]
  },
  {
   "cell_type": "markdown",
   "id": "cbc0f063-b54f-4839-9aaa-e7d60e7b9f7c",
   "metadata": {},
   "source": [
    "***Newbie Level***\n",
    "\n",
    "Write a function `get_details` that returns a user's name and age. Call the function and unpack the two returned values into variables `name` and `age` before printing them."
   ]
  },
  {
   "cell_type": "code",
   "execution_count": 10,
   "id": "df575a61-7b72-48bb-a079-3181598c3d13",
   "metadata": {},
   "outputs": [
    {
     "name": "stdout",
     "output_type": "stream",
     "text": [
      "{'Ali': 14, 'Agha': 15, 'Haris': 11}\n"
     ]
    }
   ],
   "source": [
    "def get_details():\n",
    "    name = ['Ali', 'Agha', 'Haris']\n",
    "    age  = [14,15,11]\n",
    "    return name,age\n",
    "\n",
    "name,age = get_details()\n",
    "details_dict = dict(zip(name,age))\n",
    "print(details_dict)"
   ]
  },
  {
   "cell_type": "markdown",
   "id": "5ca31518-c12d-474e-9086-e2e641cfb89f",
   "metadata": {},
   "source": [
    "**Mid Level**\n",
    "\n",
    "Create a list of numbers: `[2, 8, 3, 10, 5]`. Write a function `calculate_stats` that returns the minimum value, the maximum value, and the sum of all elements from this list. Print all three returned values with clear labels."
   ]
  },
  {
   "cell_type": "code",
   "execution_count": 11,
   "id": "63f51380-8755-4ce8-a8fc-95728eb7a0e8",
   "metadata": {},
   "outputs": [
    {
     "name": "stdout",
     "output_type": "stream",
     "text": [
      "mean: 5.6, sum: 28, max: 10, min: 2\n"
     ]
    }
   ],
   "source": [
    "numbers = [2,8,3,10,5]\n",
    "def calculate_stats(data_list):\n",
    "    sum_val  = sum(data_list) \n",
    "    max_val  = max(data_list) \n",
    "    min_val  = min(data_list)\n",
    "    mean_val = sum_val/len(data_list)\n",
    "    return  sum_val, max_val, min_val,mean_val\n",
    "sum_val, max_val, min_val, mean_val = calculate_stats(numbers)\n",
    "print(f'mean: {mean_val}, sum: {sum_val}, max: {max_val}, min: {min_val}')"
   ]
  },
  {
   "cell_type": "markdown",
   "id": "881b6706-3db8-4871-9960-6f18c92f1019",
   "metadata": {},
   "source": [
    "**Pro Level**\n",
    "\n",
    "Write a function `process_data` that takes a list of strings and a list of numeric values. The function should count the number of string entries that start with `'A'` and return that count along with a new list containing the string entries filtered to those that start with `'A'`. Also, return the total sum of the numeric values. Use the string list `['Apple', 'Banana', 'Avocado']` and the number list `[1, 2, 3]` as an example."
   ]
  },
  {
   "cell_type": "code",
   "execution_count": 12,
   "id": "2dad47c1-7162-417c-9273-d4e70d7d4be9",
   "metadata": {},
   "outputs": [
    {
     "name": "stdout",
     "output_type": "stream",
     "text": [
      "filtered_list: ['Apple', 'Avocado'], filtered_list_count: 2, total_sum: 6\n"
     ]
    }
   ],
   "source": [
    "def process_data(strings, integer):\n",
    "    filtered_list = [x for x in strings if x.startswith('A')]\n",
    "    filtered_list_count = len(filtered_list)\n",
    "    total_sum = sum(integer)\n",
    "    return filtered_list, filtered_list_count, total_sum\n",
    "\n",
    "fruit = ['Apple', 'Banana', 'Avocado']\n",
    "numbers = [1,2,3]\n",
    "filtered_list, filtered_list_count, total_sum = process_data(strings = fruit, integer = numbers)\n",
    "print(f'filtered_list: {filtered_list}, filtered_list_count: {filtered_list_count}, total_sum: {total_sum}')"
   ]
  },
  {
   "cell_type": "markdown",
   "id": "e9850dff-1f8e-4e97-b87d-58b2b6a758f4",
   "metadata": {},
   "source": [
    "## 4. Functions as Objects"
   ]
  },
  {
   "cell_type": "markdown",
   "id": "cd54a178-9b3f-4fc4-b1ea-8467c2b9d655",
   "metadata": {},
   "source": [
    "**Newbie Level**\n",
    "\n",
    "Assign a built-in Python function, such as `max`, to a new variable called `find_max`. Then, use `find_max` to find the largest number in a list. This demonstrates that a function can be referenced by another variable."
   ]
  },
  {
   "cell_type": "code",
   "execution_count": 13,
   "id": "8b5afdbc-eb2d-4002-981c-de34c70d6f92",
   "metadata": {},
   "outputs": [],
   "source": [
    "find_max = max\n",
    "list_1 = [9,6,33,90,28,91]\n",
    "list_1_maximum = find_max(list_1)"
   ]
  },
  {
   "cell_type": "code",
   "execution_count": 14,
   "id": "b1e50766-5507-4665-a28a-e7c1c568b4d3",
   "metadata": {},
   "outputs": [
    {
     "data": {
      "text/plain": [
       "91"
      ]
     },
     "execution_count": 14,
     "metadata": {},
     "output_type": "execute_result"
    }
   ],
   "source": [
    "list_1_maximum"
   ]
  },
  {
   "cell_type": "markdown",
   "id": "9101769b-a51e-4c08-a2fd-e4f4beea15a6",
   "metadata": {},
   "source": [
    "**Mid Level**\n",
    "\n",
    "Create two simple functions: `add_one` and `double_it`. Create a list of these function objects. Then, write a loop that iterates through a list of numbers and applies each function from your list to every number, printing the intermediate and final results."
   ]
  },
  {
   "cell_type": "code",
   "execution_count": 15,
   "id": "b02bde2c-acad-4639-ba53-9e5eb8bf58cd",
   "metadata": {},
   "outputs": [
    {
     "name": "stdout",
     "output_type": "stream",
     "text": [
      "Starting with: 4\n",
      "After applying add_one: 5\n",
      "After applying double_it: 10\n",
      "Final result: 10\n",
      "\n",
      "Starting with: 5\n",
      "After applying add_one: 6\n",
      "After applying double_it: 12\n",
      "Final result: 12\n",
      "\n",
      "Starting with: 6\n",
      "After applying add_one: 7\n",
      "After applying double_it: 14\n",
      "Final result: 14\n",
      "\n",
      "Starting with: 10\n",
      "After applying add_one: 11\n",
      "After applying double_it: 22\n",
      "Final result: 22\n",
      "\n",
      "Starting with: 30\n",
      "After applying add_one: 31\n",
      "After applying double_it: 62\n",
      "Final result: 62\n",
      "\n"
     ]
    }
   ],
   "source": [
    "def add_one(x):\n",
    "    return x + 1\n",
    "\n",
    "def double_it(x):\n",
    "    return x * 2\n",
    "\n",
    "ops = [add_one, double_it]\n",
    "\n",
    "num = [4,5,6,10,30]\n",
    "for n in num:\n",
    "    result = n\n",
    "    print(f'Starting with: {result}')\n",
    "    for op in ops:\n",
    "        result = op(result)\n",
    "        print(f'After applying {op.__name__}: {result}')\n",
    "    print(f'Final result: {result}\\n')\n"
   ]
  },
  {
   "cell_type": "markdown",
   "id": "0ac2ee04-4a7f-46bf-bfdb-9cf9adcab474",
   "metadata": {},
   "source": [
    "**Pro Level**\n",
    "\n",
    "Using the `clean_text_data` function you wrote earlier, create a new function `data_pipeline` that takes a list of messy strings and a list of functions (like `[str.strip, str.upper]`). The `data_pipeline` function should apply each function from the list to every string and return the final list of cleaned strings. This is a true data cleaning pipeline!"
   ]
  },
  {
   "cell_type": "code",
   "execution_count": 16,
   "id": "61bb160d-8799-4e36-b682-8a066ae1ba16",
   "metadata": {
    "jupyter": {
     "source_hidden": true
    }
   },
   "outputs": [
    {
     "name": "stdout",
     "output_type": "stream",
     "text": [
      "['Apple', 'Ball', 'Cat']\n"
     ]
    }
   ],
   "source": [
    "import re\n",
    "def to_strip(x):\n",
    "    return x.strip()\n",
    "def to_upper(x):\n",
    "    return x.upper()                             #these three are our operations\n",
    "def clean_text_data(text):\n",
    "    clean_text = re.sub(r'[!@#%?]','',text)\n",
    "    return clean_text.title()\n",
    "\n",
    "\n",
    "operations = [to_strip, to_upper, clean_text_data] # this is the list of our operatioins \n",
    "\n",
    "\n",
    "def data_pipeline(string_list, operations):  #this is our final pipeline that will use the operations list\n",
    "    result = []\n",
    "    for s in string_list:\n",
    "        processed_string = s\n",
    "        for op in operations:\n",
    "            processed_string = op(processed_string)\n",
    "        result.append(processed_string)\n",
    "    return(result)\n",
    "messy_string = ['!!apple  ', 'ball   ','%cat']\n",
    "\n",
    "cleaned_string = data_pipeline(messy_string, [to_strip, clean_text_data])\n",
    "print(cleaned_string)\n",
    "\n",
    "\n",
    "\n",
    "# **note**  indentation matter strictly, one space can cause the code to go wild"
   ]
  },
  {
   "cell_type": "markdown",
   "id": "bd18aa0f-d62e-43cf-b1cc-b2ac3f41d4b6",
   "metadata": {},
   "source": [
    "## 5. Anonymous (Lambda) Functions"
   ]
  },
  {
   "cell_type": "markdown",
   "id": "94380803-450a-40d2-8fc0-bb28801e02b6",
   "metadata": {},
   "source": [
    "**Newbie Level**\n",
    "\n",
    "Create a lambda function that squares a given number. Assign it to a variable `square`. Call the function with `5` and print the result. This shows that a lambda can be stored in a variable, but it's not a common use case."
   ]
  },
  {
   "cell_type": "code",
   "execution_count": 17,
   "id": "100cf644-6984-456e-8ae3-2bd75f48a7eb",
   "metadata": {},
   "outputs": [
    {
     "name": "stdout",
     "output_type": "stream",
     "text": [
      "100\n"
     ]
    }
   ],
   "source": [
    "squared = lambda x : x ** 2 #you can also use x * x for squaring \n",
    "result = squared(10)\n",
    "print(result)"
   ]
  },
  {
   "cell_type": "markdown",
   "id": "7e71d8c8-fc6c-4e0d-8bb3-98ce38391e24",
   "metadata": {},
   "source": [
    "**Mid Level**\n",
    "\n",
    "You have a list of tuples: `data = [('Apple', 2), ('Banana', 5), ('Cherry', 1)]`. Sort this list based on the **second** element of each tuple (the number) in ascending order. Use the `sorted()` function with a lambda function as the `key` argument."
   ]
  },
  {
   "cell_type": "code",
   "execution_count": 18,
   "id": "23cc6ce7-e529-4b04-b20d-dd28cb72015b",
   "metadata": {},
   "outputs": [],
   "source": [
    "data = [('Apple', 2), ('Banana', 5), ('Cherry', 1)]\n",
    "sorted_data = sorted(data, key = lambda item: item[1])  \n",
    "# key is a parameter of the sorted function, and it only works when\n",
    "# a function is passed. You can't pass list comprehension here"
   ]
  },
  {
   "cell_type": "code",
   "execution_count": 19,
   "id": "309813ac-d610-4a72-aa32-a958d14d1775",
   "metadata": {},
   "outputs": [
    {
     "data": {
      "text/plain": [
       "[('Cherry', 1), ('Apple', 2), ('Banana', 5)]"
      ]
     },
     "execution_count": 19,
     "metadata": {},
     "output_type": "execute_result"
    }
   ],
   "source": [
    "sorted_data"
   ]
  },
  {
   "cell_type": "markdown",
   "id": "3183f8b5-254f-4582-b852-f321d7004751",
   "metadata": {},
   "source": [
    "**Pro Level**\n",
    "\n",
    "You have a list of dictionaries, `users = [{'name': 'Alice', 'age': 30}, {'name': 'Bob', 'age': 25}]`. Write a lambda function to extract the `age` from each dictionary. Then, use the `map()` function along with your lambda to create a new list containing just the ages of all the users."
   ]
  },
  {
   "cell_type": "code",
   "execution_count": 30,
   "id": "8be355ef-17a1-4123-86c2-7ef1c3256e6d",
   "metadata": {},
   "outputs": [],
   "source": [
    "users = [{'name': 'Alice', 'age': 30}, {'name': 'Bob', 'age': 25}]\n",
    "get_ages = lambda user: user['age']\n",
    "ages_generator = map(get_ages,users) #this will give an iterator item\n",
    "\n",
    "ages_list = list(ages_generator) #you have to list or tuple that iterator item"
   ]
  },
  {
   "cell_type": "code",
   "execution_count": 31,
   "id": "ceaef890-a7aa-41d4-b4d9-01b2a0f35c6a",
   "metadata": {},
   "outputs": [
    {
     "data": {
      "text/plain": [
       "[30, 25]"
      ]
     },
     "execution_count": 31,
     "metadata": {},
     "output_type": "execute_result"
    }
   ],
   "source": [
    "ages_list"
   ]
  },
  {
   "cell_type": "markdown",
   "id": "35c0012f-d21d-46ff-a1a3-8b7bb8b8348d",
   "metadata": {},
   "source": [
    "# 6. Generators"
   ]
  },
  {
   "cell_type": "markdown",
   "id": "a3e6a5af-a8d2-46b4-9534-42f1347f6478",
   "metadata": {},
   "source": [
    "**Newbie Level**\n",
    "\n",
    "Write a generator function `count_up` that yields numbers from 1 to 3. Create the generator object and then iterate through it with a `for` loop, printing each yielded number. This demonstrates the basic `yield` keyword."
   ]
  },
  {
   "cell_type": "code",
   "execution_count": 36,
   "id": "b9b1bf7c-0c48-4334-ab6f-808d40644eda",
   "metadata": {},
   "outputs": [
    {
     "name": "stdout",
     "output_type": "stream",
     "text": [
      "Generator Starting....\n",
      "6\n",
      "7\n",
      "8\n",
      "Generator finshed....\n"
     ]
    }
   ],
   "source": [
    "def count_up():\n",
    "    print('Generator Starting....')\n",
    "    yield 1\n",
    "    yield 2\n",
    "    yield 3\n",
    "    print('Generator finshed....')\n",
    "my_gen = count_up()\n",
    "\n",
    "for num in my_gen:\n",
    "    print(num + 5)"
   ]
  },
  {
   "cell_type": "markdown",
   "id": "856248ed-21d5-4497-99ae-dc83a2bbcc30",
   "metadata": {},
   "source": [
    "**Mid Level**\n",
    "\n",
    "Use a generator expression to square all numbers in a list `[1, 2, 3, 4, 5]`. Pass this generator expression directly to the built-in `sum()` function to calculate the total sum of the squares. This shows how generators can be used without creating a full list in memory."
   ]
  },
  {
   "cell_type": "code",
   "execution_count": 44,
   "id": "d99d04ba-f7e3-45e5-8454-5a0325fa7878",
   "metadata": {},
   "outputs": [],
   "source": [
    "numbers = [1, 2, 3, 4, 5]\n",
    "\n",
    "square_gen = (x ** 2 for x in numbers)\n",
    "total = sum(square_gen)"
   ]
  },
  {
   "cell_type": "code",
   "execution_count": 45,
   "id": "7a69aa00-7e70-4994-8e71-ed15359aa0b1",
   "metadata": {},
   "outputs": [
    {
     "data": {
      "text/plain": [
       "55"
      ]
     },
     "execution_count": 45,
     "metadata": {},
     "output_type": "execute_result"
    }
   ],
   "source": [
    "total"
   ]
  },
  {
   "cell_type": "markdown",
   "id": "2a242b35-3df1-4b33-b979-c9b4541f23cf",
   "metadata": {},
   "source": [
    "**Pro Level**\n",
    "\n",
    "Write a generator function `read_large_file` that takes a file path as an argument. The function should **yield** one line from the file at a time, stripping any whitespace. This is the pattern used to process massive files efficiently. (For this example, you can create a simple `sample.txt` file and read from it.)"
   ]
  },
  {
   "cell_type": "code",
   "execution_count": null,
   "id": "16169587-aa1a-4536-98dd-d93af17fca3f",
   "metadata": {},
   "outputs": [],
   "source": [
    "read_large_files = "
   ]
  },
  {
   "cell_type": "raw",
   "id": "d119985e-dbb8-4978-b62d-9f75e65d95be",
   "metadata": {},
   "source": []
  },
  {
   "cell_type": "code",
   "execution_count": null,
   "id": "ddac9a26-eb6a-4c6d-8be7-df0eb464e4fb",
   "metadata": {},
   "outputs": [],
   "source": []
  },
  {
   "cell_type": "code",
   "execution_count": null,
   "id": "088ccc6e-1bbc-43dc-a329-acef09083141",
   "metadata": {},
   "outputs": [],
   "source": []
  },
  {
   "cell_type": "code",
   "execution_count": null,
   "id": "2a37f4f6-e079-4988-80c7-9bf7a4e1a9ca",
   "metadata": {},
   "outputs": [],
   "source": []
  },
  {
   "cell_type": "code",
   "execution_count": null,
   "id": "15d5129a-3214-4c47-956f-615673195aff",
   "metadata": {},
   "outputs": [],
   "source": []
  },
  {
   "cell_type": "code",
   "execution_count": null,
   "id": "5db817dd-988c-431a-9d6e-654e86f54d0e",
   "metadata": {},
   "outputs": [],
   "source": []
  }
 ],
 "metadata": {
  "kernelspec": {
   "display_name": "Python 3 (ipykernel)",
   "language": "python",
   "name": "python3"
  },
  "language_info": {
   "codemirror_mode": {
    "name": "ipython",
    "version": 3
   },
   "file_extension": ".py",
   "mimetype": "text/x-python",
   "name": "python",
   "nbconvert_exporter": "python",
   "pygments_lexer": "ipython3",
   "version": "3.12.7"
  }
 },
 "nbformat": 4,
 "nbformat_minor": 5
}

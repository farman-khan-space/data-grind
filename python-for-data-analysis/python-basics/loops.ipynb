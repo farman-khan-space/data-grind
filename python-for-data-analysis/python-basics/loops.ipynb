{
 "cells": [
  {
   "cell_type": "code",
   "execution_count": 13,
   "id": "8225683f-720e-4eaf-b498-19f0f340db08",
   "metadata": {},
   "outputs": [
    {
     "name": "stdout",
     "output_type": "stream",
     "text": [
      "found it: 13\n"
     ]
    }
   ],
   "source": [
    "for i in range(1, 101):\n",
    "    if i % 13 == 0:\n",
    "        print('found it:',i)\n",
    "        break\n",
    "\n"
   ]
  },
  {
   "cell_type": "code",
   "execution_count": 17,
   "id": "0a032314-e4e9-4339-999d-dd2754e5d566",
   "metadata": {},
   "outputs": [
    {
     "name": "stdout",
     "output_type": "stream",
     "text": [
      "BOMB DETECTED!\n"
     ]
    }
   ],
   "source": [
    "for i in ('ice', 'rice', 'grass' , 'cat', 'bomb', 'beluga', 'mobile'):\n",
    "    if i == 'bomb':\n",
    "        print('BOMB DETECTED!')\n",
    "        break\n",
    "        "
   ]
  },
  {
   "cell_type": "code",
   "execution_count": 38,
   "id": "2a713134-8eca-485f-8d87-87e00e989b64",
   "metadata": {},
   "outputs": [
    {
     "name": "stdout",
     "output_type": "stream",
     "text": [
      "1\n",
      "3\n",
      "5\n",
      "7\n",
      "9\n",
      "11\n",
      "13\n",
      "15\n",
      "17\n",
      "19\n"
     ]
    }
   ],
   "source": [
    "for i in range(1,20):\n",
    "    if i % 2 == 0:\n",
    "        \n",
    "        continue\n",
    "    print(i)"
   ]
  },
  {
   "cell_type": "code",
   "execution_count": 39,
   "id": "0395aa9e-d6a4-428c-b9c7-27e982343bd0",
   "metadata": {},
   "outputs": [
    {
     "name": "stdout",
     "output_type": "stream",
     "text": [
      "apple\n",
      "banana\n",
      "grape\n",
      "mango\n"
     ]
    }
   ],
   "source": [
    "for i in(['apple', 'banana', '', 'grape', None, 'mango']):\n",
    "    \n",
    "    if   i == '' or i == None:\n",
    "         continue\n",
    "    print (i)"
   ]
  },
  {
   "cell_type": "code",
   "execution_count": 42,
   "id": "764f8d70-8e56-42c6-850c-2217e9779557",
   "metadata": {},
   "outputs": [
    {
     "name": "stdout",
     "output_type": "stream",
     "text": [
      "dog\n",
      "bat\n"
     ]
    }
   ],
   "source": [
    "for i in (['cat', 'dog', 'cow', 'bat', 'crow']):\n",
    "    if 'c' in i:\n",
    "        continue\n",
    "    print(i)\n"
   ]
  },
  {
   "cell_type": "code",
   "execution_count": 45,
   "id": "e84f45d5-eaf4-494d-a714-0522dd55b137",
   "metadata": {},
   "outputs": [
    {
     "name": "stdout",
     "output_type": "stream",
     "text": [
      "1\n",
      "2\n",
      "4\n",
      "5\n",
      "7\n",
      "8\n",
      "10\n",
      "11\n",
      "13\n",
      "14\n",
      "16\n",
      "17\n",
      "19\n",
      "20\n",
      "22\n",
      "23\n",
      "25\n",
      "26\n",
      "28\n",
      "29\n",
      "31\n",
      "32\n",
      "34\n",
      "35\n"
     ]
    }
   ],
   "source": [
    "for i in range(1,51):\n",
    "    if i % 3 == 0:\n",
    "        continue\n",
    "    \n",
    "    if i == 37:\n",
    "        break\n",
    "    print(i)"
   ]
  },
  {
   "cell_type": "code",
   "execution_count": 46,
   "id": "4b415f05-d2df-4a29-adf7-97b6c24ad772",
   "metadata": {},
   "outputs": [
    {
     "name": "stdout",
     "output_type": "stream",
     "text": [
      "apple\n",
      "banana\n"
     ]
    }
   ],
   "source": [
    "words = ['apple', 'carrot', 'banana', 'STOP', 'cherry', 'grape']\n",
    "for i in words:\n",
    "    if 'c' in i:\n",
    "        continue\n",
    "    if i == 'STOP':\n",
    "        break\n",
    "    print(i)"
   ]
  },
  {
   "cell_type": "code",
   "execution_count": null,
   "id": "e450db93-49d7-4dcd-aa7f-0899806fbc4a",
   "metadata": {},
   "outputs": [],
   "source": [
    "for i in range(2,51):\n",
    "    if i % 2 == 0:\n",
    "        contin"
   ]
  }
 ],
 "metadata": {
  "kernelspec": {
   "display_name": "Python 3 (ipykernel)",
   "language": "python",
   "name": "python3"
  },
  "language_info": {
   "codemirror_mode": {
    "name": "ipython",
    "version": 3
   },
   "file_extension": ".py",
   "mimetype": "text/x-python",
   "name": "python",
   "nbconvert_exporter": "python",
   "pygments_lexer": "ipython3",
   "version": "3.12.7"
  }
 },
 "nbformat": 4,
 "nbformat_minor": 5
}
